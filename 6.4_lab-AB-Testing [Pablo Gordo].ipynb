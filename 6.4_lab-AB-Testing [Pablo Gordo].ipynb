{
 "cells": [
  {
   "cell_type": "markdown",
   "id": "angry-pearl",
   "metadata": {
    "toc": true
   },
   "source": [
    "<h1>Table of Contents<span class=\"tocSkip\"></span></h1>\n",
    "<div class=\"toc\"><ul class=\"toc-item\"><li><span><a href=\"#AB-Testing\" data-toc-modified-id=\"AB-Testing-1\"><span class=\"toc-item-num\">1&nbsp;&nbsp;</span>AB-Testing</a></span></li><li><span><a href=\"#Ejercicio-con-Bayes-para-1-dia\" data-toc-modified-id=\"Ejercicio-con-Bayes-para-1-dia-2\"><span class=\"toc-item-num\">2&nbsp;&nbsp;</span>Ejercicio con Bayes para 1 dia</a></span></li><li><span><a href=\"#Para-7-dias-con-Bayes\" data-toc-modified-id=\"Para-7-dias-con-Bayes-3\"><span class=\"toc-item-num\">3&nbsp;&nbsp;</span>Para 7 dias con Bayes</a></span></li></ul></div>"
   ]
  },
  {
   "cell_type": "markdown",
   "id": "c92ba6e0",
   "metadata": {},
   "source": [
    "# AB-Testing\n",
    "\n",
    "![cats](images/cats.jpeg)\n",
    "\n",
    "\n",
    "Imaginad que somos los cientificos de datos de la empresa de videojuegos Tactile Entertainment. Los desarrolladores del juego Cookie Cats pretenden introducir un cambio en el juego para aumentar la retencion de los jugadores. En cierto nivel del juego los jugadores se encuentran una puerta que les obliga a esperar o a pagar la app. Actualmente la puerta se encuentra en nivel 30 y se pretende pasar al nivel 40, para comprobar la retencion a 1 y 7 dias. Antes de realizar el cambio definitivo en el juego se raliza un test AB.\n",
    "\n",
    "Los datos estan alojados en `data/cookie_cats.csv`. Nuestro grupo de control sera la version actual `gate_30` y el grupo de tratamiento sera la version `gate_40`. Debemos realizar el test para 1 dia de retencion `retention_1` y para 7 dias `retention_7`."
   ]
  },
  {
   "cell_type": "code",
   "execution_count": 1,
   "id": "ac3b2f52",
   "metadata": {},
   "outputs": [],
   "source": [
    "# librerias\n",
    "\n",
    "import numpy as np\n",
    "import pandas as pd\n",
    "\n",
    "import scipy.stats as stats\n",
    "import statsmodels.stats.api as sms\n",
    "\n",
    "import pylab as plt\n",
    "import seaborn as sns\n",
    "\n",
    "%matplotlib inline\n",
    "\n",
    "from statsmodels.stats.proportion import proportions_ztest, proportion_confint\n",
    "from scipy.stats import norm, sem\n"
   ]
  },
  {
   "cell_type": "code",
   "execution_count": 2,
   "id": "7fe515c2",
   "metadata": {},
   "outputs": [
    {
     "data": {
      "text/html": [
       "<div>\n",
       "<style scoped>\n",
       "    .dataframe tbody tr th:only-of-type {\n",
       "        vertical-align: middle;\n",
       "    }\n",
       "\n",
       "    .dataframe tbody tr th {\n",
       "        vertical-align: top;\n",
       "    }\n",
       "\n",
       "    .dataframe thead th {\n",
       "        text-align: right;\n",
       "    }\n",
       "</style>\n",
       "<table border=\"1\" class=\"dataframe\">\n",
       "  <thead>\n",
       "    <tr style=\"text-align: right;\">\n",
       "      <th></th>\n",
       "      <th>userid</th>\n",
       "      <th>version</th>\n",
       "      <th>sum_gamerounds</th>\n",
       "      <th>retention_1</th>\n",
       "      <th>retention_7</th>\n",
       "    </tr>\n",
       "  </thead>\n",
       "  <tbody>\n",
       "    <tr>\n",
       "      <th>0</th>\n",
       "      <td>116</td>\n",
       "      <td>gate_30</td>\n",
       "      <td>3</td>\n",
       "      <td>False</td>\n",
       "      <td>False</td>\n",
       "    </tr>\n",
       "    <tr>\n",
       "      <th>1</th>\n",
       "      <td>337</td>\n",
       "      <td>gate_30</td>\n",
       "      <td>38</td>\n",
       "      <td>True</td>\n",
       "      <td>False</td>\n",
       "    </tr>\n",
       "    <tr>\n",
       "      <th>2</th>\n",
       "      <td>377</td>\n",
       "      <td>gate_40</td>\n",
       "      <td>165</td>\n",
       "      <td>True</td>\n",
       "      <td>False</td>\n",
       "    </tr>\n",
       "    <tr>\n",
       "      <th>3</th>\n",
       "      <td>483</td>\n",
       "      <td>gate_40</td>\n",
       "      <td>1</td>\n",
       "      <td>False</td>\n",
       "      <td>False</td>\n",
       "    </tr>\n",
       "    <tr>\n",
       "      <th>4</th>\n",
       "      <td>488</td>\n",
       "      <td>gate_40</td>\n",
       "      <td>179</td>\n",
       "      <td>True</td>\n",
       "      <td>True</td>\n",
       "    </tr>\n",
       "  </tbody>\n",
       "</table>\n",
       "</div>"
      ],
      "text/plain": [
       "   userid  version  sum_gamerounds  retention_1  retention_7\n",
       "0     116  gate_30               3        False        False\n",
       "1     337  gate_30              38         True        False\n",
       "2     377  gate_40             165         True        False\n",
       "3     483  gate_40               1        False        False\n",
       "4     488  gate_40             179         True         True"
      ]
     },
     "execution_count": 2,
     "metadata": {},
     "output_type": "execute_result"
    }
   ],
   "source": [
    "# datos\n",
    "cats = pd.read_csv(\"../6.4_lab-AB-Testing/data/cookie_cats.csv\")\n",
    "cats.head()"
   ]
  },
  {
   "cell_type": "code",
   "execution_count": 3,
   "id": "1a708bbb",
   "metadata": {},
   "outputs": [],
   "source": [
    "# transformacion\n",
    "\n",
    "cats30 = cats[cats.version == 'gate_30']\n",
    "cats40 = cats[cats.version == 'gate_40']"
   ]
  },
  {
   "cell_type": "code",
   "execution_count": 4,
   "id": "f2e6147a",
   "metadata": {
    "scrolled": true
   },
   "outputs": [
    {
     "data": {
      "text/html": [
       "<div>\n",
       "<style scoped>\n",
       "    .dataframe tbody tr th:only-of-type {\n",
       "        vertical-align: middle;\n",
       "    }\n",
       "\n",
       "    .dataframe tbody tr th {\n",
       "        vertical-align: top;\n",
       "    }\n",
       "\n",
       "    .dataframe thead th {\n",
       "        text-align: right;\n",
       "    }\n",
       "</style>\n",
       "<table border=\"1\" class=\"dataframe\">\n",
       "  <thead>\n",
       "    <tr style=\"text-align: right;\">\n",
       "      <th>retention_1</th>\n",
       "      <th>False</th>\n",
       "      <th>True</th>\n",
       "    </tr>\n",
       "    <tr>\n",
       "      <th>version</th>\n",
       "      <th></th>\n",
       "      <th></th>\n",
       "    </tr>\n",
       "  </thead>\n",
       "  <tbody>\n",
       "    <tr>\n",
       "      <th>gate_30</th>\n",
       "      <td>24666</td>\n",
       "      <td>20034</td>\n",
       "    </tr>\n",
       "    <tr>\n",
       "      <th>gate_40</th>\n",
       "      <td>25370</td>\n",
       "      <td>20119</td>\n",
       "    </tr>\n",
       "  </tbody>\n",
       "</table>\n",
       "</div>"
      ],
      "text/plain": [
       "retention_1  False   True\n",
       "version                  \n",
       "gate_30      24666  20034\n",
       "gate_40      25370  20119"
      ]
     },
     "execution_count": 4,
     "metadata": {},
     "output_type": "execute_result"
    }
   ],
   "source": [
    "pd.crosstab(cats.version, cats.retention_1)"
   ]
  },
  {
   "cell_type": "code",
   "execution_count": 5,
   "id": "38f422cb",
   "metadata": {},
   "outputs": [
    {
     "data": {
      "text/html": [
       "<div>\n",
       "<style scoped>\n",
       "    .dataframe tbody tr th:only-of-type {\n",
       "        vertical-align: middle;\n",
       "    }\n",
       "\n",
       "    .dataframe tbody tr th {\n",
       "        vertical-align: top;\n",
       "    }\n",
       "\n",
       "    .dataframe thead th {\n",
       "        text-align: right;\n",
       "    }\n",
       "</style>\n",
       "<table border=\"1\" class=\"dataframe\">\n",
       "  <thead>\n",
       "    <tr style=\"text-align: right;\">\n",
       "      <th></th>\n",
       "      <th>userid</th>\n",
       "      <th>version</th>\n",
       "      <th>sum_gamerounds</th>\n",
       "      <th>retention_1</th>\n",
       "      <th>retention_7</th>\n",
       "    </tr>\n",
       "  </thead>\n",
       "  <tbody>\n",
       "    <tr>\n",
       "      <th>90184</th>\n",
       "      <td>9998733</td>\n",
       "      <td>gate_40</td>\n",
       "      <td>10</td>\n",
       "      <td>True</td>\n",
       "      <td>False</td>\n",
       "    </tr>\n",
       "    <tr>\n",
       "      <th>90185</th>\n",
       "      <td>9999441</td>\n",
       "      <td>gate_40</td>\n",
       "      <td>97</td>\n",
       "      <td>True</td>\n",
       "      <td>False</td>\n",
       "    </tr>\n",
       "    <tr>\n",
       "      <th>90186</th>\n",
       "      <td>9999479</td>\n",
       "      <td>gate_40</td>\n",
       "      <td>30</td>\n",
       "      <td>False</td>\n",
       "      <td>False</td>\n",
       "    </tr>\n",
       "    <tr>\n",
       "      <th>90187</th>\n",
       "      <td>9999768</td>\n",
       "      <td>gate_40</td>\n",
       "      <td>51</td>\n",
       "      <td>True</td>\n",
       "      <td>False</td>\n",
       "    </tr>\n",
       "    <tr>\n",
       "      <th>90188</th>\n",
       "      <td>9999861</td>\n",
       "      <td>gate_40</td>\n",
       "      <td>16</td>\n",
       "      <td>False</td>\n",
       "      <td>False</td>\n",
       "    </tr>\n",
       "  </tbody>\n",
       "</table>\n",
       "</div>"
      ],
      "text/plain": [
       "        userid  version  sum_gamerounds  retention_1  retention_7\n",
       "90184  9998733  gate_40              10         True        False\n",
       "90185  9999441  gate_40              97         True        False\n",
       "90186  9999479  gate_40              30        False        False\n",
       "90187  9999768  gate_40              51         True        False\n",
       "90188  9999861  gate_40              16        False        False"
      ]
     },
     "execution_count": 5,
     "metadata": {},
     "output_type": "execute_result"
    }
   ],
   "source": [
    "# muestreo\n",
    "control = cats30\n",
    "\n",
    "tratamiento = cats40\n",
    "\n",
    "ab_test = pd.concat([control, tratamiento], axis=0)\n",
    "\n",
    "ab_test.reset_index(drop=True, inplace=True)\n",
    "\n",
    "ab_test.tail()"
   ]
  },
  {
   "cell_type": "code",
   "execution_count": 6,
   "id": "875ee995",
   "metadata": {
    "scrolled": true
   },
   "outputs": [
    {
     "data": {
      "text/plain": [
       "gate_40    45489\n",
       "gate_30    44700\n",
       "Name: version, dtype: int64"
      ]
     },
     "execution_count": 6,
     "metadata": {},
     "output_type": "execute_result"
    }
   ],
   "source": [
    "ab_test.version.value_counts()"
   ]
  },
  {
   "cell_type": "code",
   "execution_count": 7,
   "id": "16d96e9a",
   "metadata": {},
   "outputs": [
    {
     "data": {
      "text/html": [
       "<style type=\"text/css\">\n",
       "</style>\n",
       "<table id=\"T_dca31\">\n",
       "  <thead>\n",
       "    <tr>\n",
       "      <th class=\"blank level0\" >&nbsp;</th>\n",
       "      <th id=\"T_dca31_level0_col0\" class=\"col_heading level0 col0\" >conversion_rate</th>\n",
       "      <th id=\"T_dca31_level0_col1\" class=\"col_heading level0 col1\" >std</th>\n",
       "      <th id=\"T_dca31_level0_col2\" class=\"col_heading level0 col2\" >std_error</th>\n",
       "    </tr>\n",
       "    <tr>\n",
       "      <th class=\"index_name level0\" >version</th>\n",
       "      <th class=\"blank col0\" >&nbsp;</th>\n",
       "      <th class=\"blank col1\" >&nbsp;</th>\n",
       "      <th class=\"blank col2\" >&nbsp;</th>\n",
       "    </tr>\n",
       "  </thead>\n",
       "  <tbody>\n",
       "    <tr>\n",
       "      <th id=\"T_dca31_level0_row0\" class=\"row_heading level0 row0\" >gate_30</th>\n",
       "      <td id=\"T_dca31_row0_col0\" class=\"data row0 col0\" >0.448</td>\n",
       "      <td id=\"T_dca31_row0_col1\" class=\"data row0 col1\" >0.497</td>\n",
       "      <td id=\"T_dca31_row0_col2\" class=\"data row0 col2\" >0.002</td>\n",
       "    </tr>\n",
       "    <tr>\n",
       "      <th id=\"T_dca31_level0_row1\" class=\"row_heading level0 row1\" >gate_40</th>\n",
       "      <td id=\"T_dca31_row1_col0\" class=\"data row1 col0\" >0.442</td>\n",
       "      <td id=\"T_dca31_row1_col1\" class=\"data row1 col1\" >0.497</td>\n",
       "      <td id=\"T_dca31_row1_col2\" class=\"data row1 col2\" >0.002</td>\n",
       "    </tr>\n",
       "  </tbody>\n",
       "</table>\n"
      ],
      "text/plain": [
       "<pandas.io.formats.style.Styler at 0x7feb13851640>"
      ]
     },
     "execution_count": 7,
     "metadata": {},
     "output_type": "execute_result"
    }
   ],
   "source": [
    "tasas_conversion=ab_test.groupby('version')['retention_1']  # agrupo por grupo\n",
    "\n",
    "\n",
    "\n",
    "std=lambda x: np.std(x, ddof=0)    # std\n",
    "error_std=lambda x: stats.sem(x, ddof=0)   # error standard , (std/sqrt(n))\n",
    "\n",
    "\n",
    "\n",
    "tasas_conversion=tasas_conversion.agg([np.mean, std, error_std])\n",
    "tasas_conversion.columns=['conversion_rate', 'std', 'std_error']\n",
    "\n",
    "\n",
    "tasas_conversion.style.format('{:.3f}')"
   ]
  },
  {
   "cell_type": "code",
   "execution_count": 8,
   "id": "6509f8a3",
   "metadata": {},
   "outputs": [
    {
     "data": {
      "image/png": "[encoded data removed]",
      "text/plain": [
       "<Figure size 576x432 with 1 Axes>"
      ]
     },
     "metadata": {
      "needs_background": "light"
     },
     "output_type": "display_data"
    }
   ],
   "source": [
    "plt.figure(figsize=(8,6))\n",
    "\n",
    "sns.barplot(x=ab_test['version'], \n",
    "            y=ab_test['retention_1'])\n",
    "\n",
    "plt.ylim(0.35, 0.475)\n",
    "plt.title('Tasa de conversión por grupo')\n",
    "plt.xlabel('Grupo')\n",
    "plt.ylabel('Convertido (proporción)');"
   ]
  },
  {
   "cell_type": "code",
   "execution_count": 9,
   "id": "5b90c429",
   "metadata": {},
   "outputs": [],
   "source": [
    "# testeo para retention_1\n",
    "from statsmodels.stats.proportion import proportions_ztest, proportion_confint\n",
    "\n",
    "control_res=ab_test[ab_test.version=='gate_30']['retention_1']\n",
    "\n",
    "trat_res=ab_test[ab_test.version=='gate_40']['retention_1']"
   ]
  },
  {
   "cell_type": "code",
   "execution_count": 54,
   "id": "b3039199",
   "metadata": {},
   "outputs": [],
   "source": [
    "conversiones=[control_res.sum(), trat_res.sum()]  # conversiones por grupo\n",
    "\n",
    "z_score, p_valor = proportions_ztest(conversiones, nobs=[control_res.count(), trat_res.count()])\n",
    "\n",
    "\n",
    "# intervalos de confianza\n",
    "\n",
    "(control_a, tratamiento_a), (control_b, tratamiento_b) = proportion_confint(conversiones, \n",
    "                                                                            nobs=control_res.count(),\n",
    "                                                                            alpha=0.05)"
   ]
  },
  {
   "cell_type": "code",
   "execution_count": 55,
   "id": "5f562cca",
   "metadata": {},
   "outputs": [
    {
     "name": "stdout",
     "output_type": "stream",
     "text": [
      "z-score: 1.78\n",
      "p-valor: 0.074\n",
      "intervalo conf 95% para grupo control: [0.444, 0.453]\n",
      "intervalo conf 95% para grupo tratamiento: [0.445, 0.455]\n"
     ]
    }
   ],
   "source": [
    "print(f'z-score: {z_score:.2f}')\n",
    "print(f'p-valor: {p_valor:.3f}')\n",
    "print(f'intervalo conf 95% para grupo control: [{control_a:.3f}, {control_b:.3f}]')\n",
    "print(f'intervalo conf 95% para grupo tratamiento: [{tratamiento_a:.3f}, {tratamiento_b:.3f}]')"
   ]
  },
  {
   "cell_type": "code",
   "execution_count": 12,
   "id": "9aae9dc6",
   "metadata": {},
   "outputs": [],
   "source": [
    "# Para retencion 7"
   ]
  },
  {
   "cell_type": "code",
   "execution_count": 13,
   "id": "f0b5e930",
   "metadata": {},
   "outputs": [],
   "source": [
    "# muestreo\n",
    "control_res7=ab_test[ab_test.version=='gate_30']['retention_7']\n",
    "\n",
    "trat_res7=ab_test[ab_test.version=='gate_40']['retention_7']"
   ]
  },
  {
   "cell_type": "code",
   "execution_count": 56,
   "id": "35eebae5",
   "metadata": {},
   "outputs": [],
   "source": [
    "conversiones=[control_res7.sum(), trat_res7.sum()]  # conversiones por grupo\n",
    "\n",
    "z_score7, p_valor7 = proportions_ztest(conversiones, nobs=[control_res7.count(), trat_res7.count()])\n",
    "\n",
    "\n",
    "# intervalos de confianza\n",
    "\n",
    "(control_a7, tratamiento_a7), (control_b7, tratamiento_b7) = proportion_confint(conversiones, \n",
    "                                                                            nobs=control_res7.count(),\n",
    "                                                                            alpha=0.05)"
   ]
  },
  {
   "cell_type": "code",
   "execution_count": 57,
   "id": "b865de5d",
   "metadata": {},
   "outputs": [
    {
     "name": "stdout",
     "output_type": "stream",
     "text": [
      "z-score \"1 dia\": 1.78 || z-score \"7 dias\": 3.16\n",
      "p-valor \"1 dia\": 0.074 || p-valor \"7 dias\": 0.002\n",
      "conf 95% para grupo \"1 dia - Puerta30\": [0.444, 0.453] ||conf 95% para grupo \"7º dia - Puerta30\": [0.187, 0.194]\n",
      "conf 95% para grupo \"1 dia - Puerta40\": [0.445, 0.455] ||conf 95% para grupo \"7º dia - Puerta40\": [0.182, 0.189]\n"
     ]
    }
   ],
   "source": [
    "print(f'z-score \"1 dia\": {z_score:.2f}', f'|| z-score \"7 dias\": {z_score7:.2f}')\n",
    "print(f'p-valor \"1 dia\": {p_valor:.3f}', f'|| p-valor \"7 dias\": {p_valor7:.3f}')\n",
    "print(f'conf 95% para grupo \"1 dia - Puerta30\": [{control_a:.3f}, {control_b:.3f}]',\n",
    "    f'||conf 95% para grupo \"7º dia - Puerta30\": [{control_a7:.3f}, {control_b7:.3f}]')\n",
    "print(f'conf 95% para grupo \"1 dia - Puerta40\": [{tratamiento_a:.3f}, {tratamiento_b:.3f}]',\n",
    "      f'||conf 95% para grupo \"7º dia - Puerta40\": [{tratamiento_a7:.3f}, {tratamiento_b7:.3f}]')"
   ]
  },
  {
   "cell_type": "code",
   "execution_count": 17,
   "id": "cooked-magnet",
   "metadata": {},
   "outputs": [],
   "source": [
    "# conclusiones\n",
    "# Explica detalladamente las conclusiones obtenidas de. tu testeo.\n",
    "\n",
    "'''En la retención del dia 1, tenemos un pvalor superior a 0,05. \n",
    "Esto significa que no tiene impacto retrasar la puerta, por lo que nos qudamos\n",
    "con la puerta en el nivel30\n",
    "\n",
    "Sin embarbo, en la retención del dia 7, el pvalor es muy bajo, a priori parece que tiene\n",
    "sentido mover la puerta al nivel 40, pero viendo los valores segun el coeficiente del 95%\n",
    "apenas tiene impacto esta mejor.\n",
    "\n",
    "Conclusión, dejaria la puerta al nivel 30\n",
    "'''"
   ]
  },
  {
   "cell_type": "markdown",
   "id": "f3c2669a",
   "metadata": {},
   "source": [
    " "
   ]
  },
  {
   "cell_type": "markdown",
   "id": "e029f80d",
   "metadata": {},
   "source": [
    " "
   ]
  },
  {
   "cell_type": "markdown",
   "id": "dfd05693",
   "metadata": {},
   "source": [
    "# Ejercicio con Bayes para 1 dia"
   ]
  },
  {
   "cell_type": "code",
   "execution_count": 46,
   "id": "50b80f91",
   "metadata": {},
   "outputs": [],
   "source": [
    "import warnings\n",
    "warnings.simplefilter('ignore')\n",
    "import numpy as np\n",
    "import pylab as plt\n",
    "plt.rcParams['figure.figsize']=(15, 8)\n",
    "from scipy.stats import bernoulli, beta   \n",
    "\n",
    "\n",
    "\n"
   ]
  },
  {
   "cell_type": "code",
   "execution_count": 70,
   "id": "8ed80670",
   "metadata": {},
   "outputs": [],
   "source": [
    "cats30 = cats[cats.version == 'gate_30']\n",
    "cats40 = cats[cats.version == 'gate_40']\n",
    "cats30_true = cats30[cats30.retention_1 == True]\n",
    "cats40_true = cats40[cats40.retention_1 == True]"
   ]
  },
  {
   "cell_type": "code",
   "execution_count": 71,
   "id": "bff7348e",
   "metadata": {},
   "outputs": [
    {
     "data": {
      "text/plain": [
       "'TASAS: Control=0.4481879194630872, Test=0.44228274967574577'"
      ]
     },
     "execution_count": 71,
     "metadata": {},
     "output_type": "execute_result"
    }
   ],
   "source": [
    "# los datos son conocidos : impresiones y conversiones para test y control\n",
    "\n",
    "imps_ctrl, convs_ctrl = cats30.retention_1.count(), cats30_true.retention_1.count()   # entrar, comprar\n",
    "imps_test, convs_test= cats40.retention_1.count(), cats40_true.retention_1.count()\n",
    "\n",
    "\n",
    "CR_ctrl = convs_ctrl/imps_ctrl\n",
    "CR_test = convs_test/imps_test\n",
    "\n",
    "f'TASAS: Control={CR_ctrl}, Test={CR_test}'"
   ]
  },
  {
   "cell_type": "code",
   "execution_count": 72,
   "id": "d0dc5ed5",
   "metadata": {},
   "outputs": [],
   "source": [
    "# aprioris\n",
    "\n",
    "a_C, b_C = convs_ctrl+1, imps_ctrl-convs_ctrl+1\n",
    "a_T, b_T = convs_test+1, imps_test-convs_test+1\n",
    "\n",
    "beta_control=beta(a_C, b_C)\n",
    "beta_test=beta(a_T, b_T)"
   ]
  },
  {
   "cell_type": "code",
   "execution_count": 73,
   "id": "aa27c857",
   "metadata": {},
   "outputs": [
    {
     "data": {
      "text/plain": [
       "(0.44819023757326293, 0.44228528719966587)"
      ]
     },
     "execution_count": 73,
     "metadata": {},
     "output_type": "execute_result"
    }
   ],
   "source": [
    "beta_control.mean(), beta_test.mean()"
   ]
  },
  {
   "cell_type": "code",
   "execution_count": 74,
   "id": "6daa69cd",
   "metadata": {},
   "outputs": [],
   "source": [
    "x=np.linspace(0.43, 0.46, 1000)\n",
    "\n",
    "def plot(betas, nombres):\n",
    "    \n",
    "    for bet, nom in zip(betas, nombres):\n",
    "        \n",
    "        y=bet.pdf(x)\n",
    "        y_media=bet.mean()\n",
    "        y_std=bet.std()\n",
    "        \n",
    "        plt.plot(x, y, label='{}, tasa de conv: {:.6f} $\\pm$ {:.10f}'.format(nom, y_media, y_std))\n",
    "        plt.yticks([])\n",
    "        \n",
    "    plt.legend()\n",
    "    plt.show();"
   ]
  },
  {
   "cell_type": "code",
   "execution_count": 75,
   "id": "e84f29fa",
   "metadata": {},
   "outputs": [
    {
     "data": {
      "image/png": "[encoded data removed]",
      "text/plain": [
       "<Figure size 1080x576 with 1 Axes>"
      ]
     },
     "metadata": {
      "needs_background": "light"
     },
     "output_type": "display_data"
    }
   ],
   "source": [
    "plot([beta_control, beta_test], ['Control', 'Testeo'])"
   ]
  },
  {
   "cell_type": "code",
   "execution_count": 76,
   "id": "d40bf57f",
   "metadata": {},
   "outputs": [
    {
     "data": {
      "text/plain": [
       "-0.013175098158249857"
      ]
     },
     "execution_count": 76,
     "metadata": {},
     "output_type": "execute_result"
    }
   ],
   "source": [
    "salto=(beta_test.mean() - beta_control.mean())/beta_control.mean()\n",
    "\n",
    "salto"
   ]
  },
  {
   "cell_type": "markdown",
   "id": "1275d3b8",
   "metadata": {},
   "source": [
    " "
   ]
  },
  {
   "cell_type": "markdown",
   "id": "18ddd22d",
   "metadata": {},
   "source": [
    " "
   ]
  },
  {
   "cell_type": "markdown",
   "id": "dadd2cde",
   "metadata": {},
   "source": [
    "# Para 7 dias con Bayes"
   ]
  },
  {
   "cell_type": "code",
   "execution_count": 78,
   "id": "eed30c6d",
   "metadata": {},
   "outputs": [],
   "source": [
    "cats30 = cats[cats.version == 'gate_30']\n",
    "cats40 = cats[cats.version == 'gate_40']\n",
    "cats30_true7 = cats30[cats30.retention_7 == True]\n",
    "cats40_true7 = cats40[cats40.retention_7 == True]"
   ]
  },
  {
   "cell_type": "code",
   "execution_count": 80,
   "id": "85a5e016",
   "metadata": {},
   "outputs": [
    {
     "data": {
      "text/plain": [
       "'TASAS: Control=0.19020134228187918, Test=0.18200004396667327'"
      ]
     },
     "execution_count": 80,
     "metadata": {},
     "output_type": "execute_result"
    }
   ],
   "source": [
    "# los datos son conocidos : impresiones y conversiones para test y control\n",
    "\n",
    "imps7_ctrl, convs7_ctrl = cats30.retention_7.count(), cats30_true7.retention_7.count()   # entrar, comprar\n",
    "imps7_test, convs7_test= cats40.retention_7.count(), cats40_true7.retention_7.count()\n",
    "\n",
    "\n",
    "CR7_ctrl = convs7_ctrl/imps7_ctrl\n",
    "CR7_test = convs7_test/imps7_test\n",
    "\n",
    "f'TASAS: Control={CR_ctrl}, Test={CR_test}'"
   ]
  },
  {
   "cell_type": "code",
   "execution_count": 81,
   "id": "d3f20e66",
   "metadata": {},
   "outputs": [],
   "source": [
    "# aprioris\n",
    "\n",
    "a_C, b_C = convs7_ctrl+1, imps7_ctrl-convs7_ctrl+1\n",
    "a_T, b_T = convs7_test+1, imps7_test-convs7_test+1\n",
    "\n",
    "beta7_control=beta(a_C, b_C)\n",
    "beta7_test=beta(a_T, b_T)"
   ]
  },
  {
   "cell_type": "code",
   "execution_count": 82,
   "id": "aed7a2fb",
   "metadata": {},
   "outputs": [
    {
     "data": {
      "text/plain": [
       "(0.19021520289919913, 0.18201402475214878)"
      ]
     },
     "execution_count": 82,
     "metadata": {},
     "output_type": "execute_result"
    }
   ],
   "source": [
    "beta7_control.mean(), beta7_test.mean()"
   ]
  },
  {
   "cell_type": "code",
   "execution_count": 91,
   "id": "231129ca",
   "metadata": {},
   "outputs": [],
   "source": [
    "x=np.linspace(0.175, 0.20, 1000)\n",
    "\n",
    "def plot(betas, nombres):\n",
    "    \n",
    "    for bet, nom in zip(betas, nombres):\n",
    "        \n",
    "        y=bet.pdf(x)\n",
    "        y_media=bet.mean()\n",
    "        y_std=bet.std()\n",
    "        \n",
    "        plt.plot(x, y, label='{}, tasa de conv: {:.6f} $\\pm$ {:.10f}'.format(nom, y_media, y_std))\n",
    "        plt.yticks([])\n",
    "        \n",
    "    plt.legend()\n",
    "    plt.show();"
   ]
  },
  {
   "cell_type": "code",
   "execution_count": 92,
   "id": "4952cc6f",
   "metadata": {},
   "outputs": [
    {
     "data": {
      "image/png": "[encoded data removed]",
      "text/plain": [
       "<Figure size 1080x576 with 1 Axes>"
      ]
     },
     "metadata": {
      "needs_background": "light"
     },
     "output_type": "display_data"
    }
   ],
   "source": [
    "plot([beta7_control, beta7_test], ['Control', 'Testeo'])"
   ]
  },
  {
   "cell_type": "code",
   "execution_count": 93,
   "id": "b6958163",
   "metadata": {},
   "outputs": [
    {
     "data": {
      "text/plain": [
       "-0.013175098158249857"
      ]
     },
     "execution_count": 93,
     "metadata": {},
     "output_type": "execute_result"
    }
   ],
   "source": [
    "salto=(beta_test.mean() - beta_control.mean())/beta_control.mean()\n",
    "\n",
    "salto"
   ]
  },
  {
   "cell_type": "code",
   "execution_count": null,
   "id": "d79d401b",
   "metadata": {},
   "outputs": [],
   "source": [
    "''' conclusión, en ambos casos, el dato de la puerta 40 es negativo, lo que supone\n",
    "que es peor.\n",
    "\n",
    "Conclusión, dejamos la puerta en nivel 30'''"
   ]
  }
 ],
 "metadata": {
  "finalized": {
   "timestamp": 1642857010293,
   "trusted": true
  },
  "kernelspec": {
   "display_name": "Python 3 (ipykernel)",
   "language": "python",
   "name": "python3"
  },
  "language_info": {
   "codemirror_mode": {
    "name": "ipython",
    "version": 3
   },
   "file_extension": ".py",
   "mimetype": "text/x-python",
   "name": "python",
   "nbconvert_exporter": "python",
   "pygments_lexer": "ipython3",
   "version": "3.9.12"
  },
  "nbTranslate": {
   "displayLangs": [
    "*"
   ],
   "hotkey": "alt-t",
   "langInMainMenu": true,
   "sourceLang": "en",
   "targetLang": "es",
   "useGoogleTranslate": true
  },
  "toc": {
   "base_numbering": 1,
   "nav_menu": {},
   "number_sections": true,
   "sideBar": true,
   "skip_h1_title": false,
   "title_cell": "Table of Contents",
   "title_sidebar": "Contents",
   "toc_cell": true,
   "toc_position": {},
   "toc_section_display": true,
   "toc_window_display": false
  },
  "varInspector": {
   "cols": {
    "lenName": 16,
    "lenType": 16,
    "lenVar": 40
   },
   "kernels_config": {
    "python": {
     "delete_cmd_postfix": "",
     "delete_cmd_prefix": "del ",
     "library": "var_list.py",
     "varRefreshCmd": "print(var_dic_list())"
    },
    "r": {
     "delete_cmd_postfix": ") ",
     "delete_cmd_prefix": "rm(",
     "library": "var_list.r",
     "varRefreshCmd": "cat(var_dic_list()) "
    }
   },
   "types_to_exclude": [
    "module",
    "function",
    "builtin_function_or_method",
    "instance",
    "_Feature"
   ],
   "window_display": false
  }
 },
 "nbformat": 4,
 "nbformat_minor": 5
}
