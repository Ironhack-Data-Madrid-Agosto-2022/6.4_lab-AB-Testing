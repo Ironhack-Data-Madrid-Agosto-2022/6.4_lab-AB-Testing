{
 "cells": [
  {
   "cell_type": "markdown",
   "id": "angry-pearl",
   "metadata": {
    "toc": true
   },
   "source": [
    "<h1>Table of Contents<span class=\"tocSkip\"></span></h1>\n",
    "<div class=\"toc\"><ul class=\"toc-item\"><li><span><a href=\"#AB-Testing\" data-toc-modified-id=\"AB-Testing-1\"><span class=\"toc-item-num\">1&nbsp;&nbsp;</span>AB-Testing</a></span></li></ul></div>"
   ]
  },
  {
   "cell_type": "markdown",
   "id": "c92ba6e0",
   "metadata": {},
   "source": [
    "# AB-Testing\n",
    "\n",
    "![cats](images/cats.jpeg)\n",
    "\n",
    "\n",
    "Imaginad que somos los cientificos de datos de la empresa de videojuegos Tactile Entertainment. Los desarrolladores del juego Cookie Cats pretenden introducir un cambio en el juego para aumentar la retencion de los jugadores. En cierto nivel del juego los jugadores se encuentran una puerta que les obliga a esperar o a pagar la app. Actualmente la puerta se encuentra en nivel 30 y se pretende pasar al nivel 40, para comprobar la retencion a 1 y 7 dias. Antes de realizar el cambio definitivo en el juego se raliza un test AB.\n",
    "\n",
    "Los datos estan alojados en `data/cookie_cats.csv`. Nuestro grupo de control sera la version actual `gate_30` y el grupo de tratamiento sera la version `gate_40`. Debemos realizar el test para 1 dia de retencion `retention_1` y para 7 dias `retention_7`."
   ]
  },
  {
   "cell_type": "code",
   "execution_count": 1,
   "id": "ac3b2f52",
   "metadata": {},
   "outputs": [],
   "source": [
    "# librerias\n",
    "\n",
    "import pandas as pd\n",
    "import numpy as np\n",
    "\n",
    "from statsmodels.stats.proportion import proportions_ztest, proportion_confint\n",
    "from scipy.stats import norm, sem\n",
    "\n",
    "import pylab as plt\n",
    "\n",
    "from scipy.stats import bernoulli, beta"
   ]
  },
  {
   "cell_type": "code",
   "execution_count": 2,
   "id": "7fe515c2",
   "metadata": {},
   "outputs": [],
   "source": [
    "# datos\n",
    "data = pd.read_csv(\"data/cookie_cats.csv\")"
   ]
  },
  {
   "cell_type": "code",
   "execution_count": 3,
   "id": "f2e6147a",
   "metadata": {},
   "outputs": [
    {
     "data": {
      "text/html": [
       "<div>\n",
       "<style scoped>\n",
       "    .dataframe tbody tr th:only-of-type {\n",
       "        vertical-align: middle;\n",
       "    }\n",
       "\n",
       "    .dataframe tbody tr th {\n",
       "        vertical-align: top;\n",
       "    }\n",
       "\n",
       "    .dataframe thead th {\n",
       "        text-align: right;\n",
       "    }\n",
       "</style>\n",
       "<table border=\"1\" class=\"dataframe\">\n",
       "  <thead>\n",
       "    <tr style=\"text-align: right;\">\n",
       "      <th></th>\n",
       "      <th>userid</th>\n",
       "      <th>version</th>\n",
       "      <th>sum_gamerounds</th>\n",
       "      <th>retention_1</th>\n",
       "      <th>retention_7</th>\n",
       "    </tr>\n",
       "  </thead>\n",
       "  <tbody>\n",
       "    <tr>\n",
       "      <th>0</th>\n",
       "      <td>116</td>\n",
       "      <td>gate_30</td>\n",
       "      <td>3</td>\n",
       "      <td>False</td>\n",
       "      <td>False</td>\n",
       "    </tr>\n",
       "    <tr>\n",
       "      <th>1</th>\n",
       "      <td>337</td>\n",
       "      <td>gate_30</td>\n",
       "      <td>38</td>\n",
       "      <td>True</td>\n",
       "      <td>False</td>\n",
       "    </tr>\n",
       "    <tr>\n",
       "      <th>2</th>\n",
       "      <td>377</td>\n",
       "      <td>gate_40</td>\n",
       "      <td>165</td>\n",
       "      <td>True</td>\n",
       "      <td>False</td>\n",
       "    </tr>\n",
       "    <tr>\n",
       "      <th>3</th>\n",
       "      <td>483</td>\n",
       "      <td>gate_40</td>\n",
       "      <td>1</td>\n",
       "      <td>False</td>\n",
       "      <td>False</td>\n",
       "    </tr>\n",
       "    <tr>\n",
       "      <th>4</th>\n",
       "      <td>488</td>\n",
       "      <td>gate_40</td>\n",
       "      <td>179</td>\n",
       "      <td>True</td>\n",
       "      <td>True</td>\n",
       "    </tr>\n",
       "  </tbody>\n",
       "</table>\n",
       "</div>"
      ],
      "text/plain": [
       "   userid  version  sum_gamerounds  retention_1  retention_7\n",
       "0     116  gate_30               3        False        False\n",
       "1     337  gate_30              38         True        False\n",
       "2     377  gate_40             165         True        False\n",
       "3     483  gate_40               1        False        False\n",
       "4     488  gate_40             179         True         True"
      ]
     },
     "execution_count": 3,
     "metadata": {},
     "output_type": "execute_result"
    }
   ],
   "source": [
    "# transformacion\n",
    "data.head()"
   ]
  },
  {
   "cell_type": "markdown",
   "id": "dcbfc711",
   "metadata": {},
   "source": [
    "## Retention 1"
   ]
  },
  {
   "cell_type": "code",
   "execution_count": 4,
   "id": "04949d73",
   "metadata": {},
   "outputs": [],
   "source": [
    "control_1 = data[data.version == \"gate_30\"].retention_1"
   ]
  },
  {
   "cell_type": "code",
   "execution_count": 5,
   "id": "337ca995",
   "metadata": {},
   "outputs": [],
   "source": [
    "test_1 = data[data.version == \"gate_40\"].retention_1"
   ]
  },
  {
   "cell_type": "code",
   "execution_count": 6,
   "id": "530e153a",
   "metadata": {},
   "outputs": [],
   "source": [
    "control_1_true = data[(data.version == \"gate_30\") & (data.retention_1 == True)]"
   ]
  },
  {
   "cell_type": "code",
   "execution_count": 7,
   "id": "4af8675d",
   "metadata": {},
   "outputs": [],
   "source": [
    "test_1_true = data[(data.version == \"gate_40\") & (data.retention_1 == True)]"
   ]
  },
  {
   "cell_type": "code",
   "execution_count": 8,
   "id": "c129eda0",
   "metadata": {},
   "outputs": [],
   "source": [
    "tasa_control = len(control_1_true)/len(control_1)"
   ]
  },
  {
   "cell_type": "code",
   "execution_count": 9,
   "id": "43429703",
   "metadata": {},
   "outputs": [],
   "source": [
    "tasa_test = len(test_1_true)/len(test_1)"
   ]
  },
  {
   "cell_type": "code",
   "execution_count": 10,
   "id": "94071f57",
   "metadata": {},
   "outputs": [
    {
     "data": {
      "text/plain": [
       "'TASAS: Control=0.4481879194630872, Test=0.44228274967574577'"
      ]
     },
     "execution_count": 10,
     "metadata": {},
     "output_type": "execute_result"
    }
   ],
   "source": [
    "f'TASAS: Control={tasa_control}, Test={tasa_test}'"
   ]
  },
  {
   "cell_type": "code",
   "execution_count": 11,
   "id": "38f422cb",
   "metadata": {},
   "outputs": [],
   "source": [
    "beta_control = beta(len(control_1_true) + 1, len(control_1) - len(control_1_true) + 1) #beta(aciertos , total-aciertos)"
   ]
  },
  {
   "cell_type": "code",
   "execution_count": 12,
   "id": "04f8d9a6",
   "metadata": {},
   "outputs": [],
   "source": [
    "beta_test = beta(len(test_1_true) + 1, len(test_1) - len(test_1_true) + 1) #distribución beta por eso hay que importar"
   ]
  },
  {
   "cell_type": "code",
   "execution_count": 13,
   "id": "c7d957c3",
   "metadata": {},
   "outputs": [],
   "source": [
    "salto=(beta_test.mean()-beta_control.mean())/beta_control.mean()"
   ]
  },
  {
   "cell_type": "code",
   "execution_count": 14,
   "id": "e6d22746",
   "metadata": {},
   "outputs": [
    {
     "data": {
      "text/plain": [
       "(0.44819023757326293, 0.44228528719966587)"
      ]
     },
     "execution_count": 14,
     "metadata": {},
     "output_type": "execute_result"
    }
   ],
   "source": [
    "beta_control.mean(), beta_test.mean()"
   ]
  },
  {
   "cell_type": "code",
   "execution_count": 15,
   "id": "097cc141",
   "metadata": {},
   "outputs": [],
   "source": [
    "x=np.linspace(0.42, 0.48, 1000) #empezar entre 0 y 1 y luego ir ajustando\n",
    "\n",
    "def plot(betas, nombres):\n",
    "    \n",
    "    for bet, nom in zip(betas, nombres):\n",
    "        \n",
    "        y=bet.pdf(x)\n",
    "        y_media=bet.mean()\n",
    "        y_std=bet.std()\n",
    "        \n",
    "        plt.plot(x, y, label='{}, tasa de conv: {:.6f} $\\pm$ {:.10f}'.format(nom, y_media, y_std))\n",
    "        plt.yticks([])\n",
    "        \n",
    "    plt.legend()\n",
    "    plt.show();"
   ]
  },
  {
   "cell_type": "code",
   "execution_count": 16,
   "id": "f7040757",
   "metadata": {},
   "outputs": [
    {
     "data": {
      "image/png": "[encoded data removed]",
      "text/plain": [
       "<Figure size 432x288 with 1 Axes>"
      ]
     },
     "metadata": {
      "needs_background": "light"
     },
     "output_type": "display_data"
    }
   ],
   "source": [
    "plot([beta_control, beta_test], [\"Control\", \"Test\"])"
   ]
  },
  {
   "cell_type": "code",
   "execution_count": 17,
   "id": "0a9bee9a",
   "metadata": {},
   "outputs": [
    {
     "data": {
      "text/plain": [
       "'Ha empeorado el test en un 1.32 por ciento comparado con el grupo control'"
      ]
     },
     "execution_count": 17,
     "metadata": {},
     "output_type": "execute_result"
    }
   ],
   "source": [
    "salto=(beta_test.mean() - beta_control.mean())/beta_control.mean()\n",
    "\n",
    "f\"Ha empeorado el test en un {-salto.round(4)*100} por ciento comparado con el grupo control\""
   ]
  },
  {
   "cell_type": "markdown",
   "id": "248266b5",
   "metadata": {},
   "source": [
    "## Retention 7"
   ]
  },
  {
   "cell_type": "code",
   "execution_count": 18,
   "id": "79c962b6",
   "metadata": {},
   "outputs": [],
   "source": [
    "control_7 = data[data.version == \"gate_30\"].retention_7"
   ]
  },
  {
   "cell_type": "code",
   "execution_count": 19,
   "id": "814eb04c",
   "metadata": {},
   "outputs": [],
   "source": [
    "test_7 = data[data.version == \"gate_40\"].retention_7"
   ]
  },
  {
   "cell_type": "code",
   "execution_count": 20,
   "id": "614be4a1",
   "metadata": {},
   "outputs": [],
   "source": [
    "control_7_true = data[(data.version == \"gate_30\") & (data.retention_7 == True)]"
   ]
  },
  {
   "cell_type": "code",
   "execution_count": 21,
   "id": "d262c7c7",
   "metadata": {},
   "outputs": [],
   "source": [
    "test_7_true = data[(data.version == \"gate_40\") & (data.retention_7 == True)]"
   ]
  },
  {
   "cell_type": "code",
   "execution_count": 22,
   "id": "3a5d9a39",
   "metadata": {},
   "outputs": [],
   "source": [
    "tasa_control_7 = len(control_7_true)/len(control_7)"
   ]
  },
  {
   "cell_type": "code",
   "execution_count": 23,
   "id": "da6a9336",
   "metadata": {},
   "outputs": [],
   "source": [
    "tasa_test_7 = len(test_7_true)/len(test_7)"
   ]
  },
  {
   "cell_type": "code",
   "execution_count": 24,
   "id": "b2c8ee35",
   "metadata": {},
   "outputs": [
    {
     "data": {
      "text/plain": [
       "'TASAS: Control=0.19020134228187918, Test=0.18200004396667327'"
      ]
     },
     "execution_count": 24,
     "metadata": {},
     "output_type": "execute_result"
    }
   ],
   "source": [
    "f'TASAS: Control={tasa_control_7}, Test={tasa_test_7}'"
   ]
  },
  {
   "cell_type": "code",
   "execution_count": 25,
   "id": "bf965b26",
   "metadata": {},
   "outputs": [],
   "source": [
    "beta_control_7 = beta(len(control_7_true) + 1, len(control_7) - len(control_7_true) + 1)"
   ]
  },
  {
   "cell_type": "code",
   "execution_count": 26,
   "id": "77e30f3f",
   "metadata": {},
   "outputs": [],
   "source": [
    "beta_test_7 = beta(len(test_7_true) + 1, len(test_7) - len(test_7_true) + 1)"
   ]
  },
  {
   "cell_type": "code",
   "execution_count": 27,
   "id": "b6152a23",
   "metadata": {},
   "outputs": [],
   "source": [
    "salto_7=(beta_test_7.mean()-beta_control_7.mean())/beta_control_7.mean()"
   ]
  },
  {
   "cell_type": "code",
   "execution_count": 28,
   "id": "05577fbc",
   "metadata": {},
   "outputs": [
    {
     "data": {
      "text/plain": [
       "(0.19021520289919913, 0.18201402475214878)"
      ]
     },
     "execution_count": 28,
     "metadata": {},
     "output_type": "execute_result"
    }
   ],
   "source": [
    "beta_control_7.mean(), beta_test_7.mean()"
   ]
  },
  {
   "cell_type": "code",
   "execution_count": 29,
   "id": "3ed068db",
   "metadata": {},
   "outputs": [],
   "source": [
    "x=np.linspace(0.17, 0.205, 1000) #empezar entre 0 y 1 y luego ir ajustando\n",
    "\n",
    "def plot(betas, nombres):\n",
    "    \n",
    "    for bet, nom in zip(betas, nombres):\n",
    "        \n",
    "        y=bet.pdf(x)\n",
    "        y_media=bet.mean()\n",
    "        y_std=bet.std()\n",
    "        \n",
    "        plt.plot(x, y, label='{}, tasa de conv: {:.6f} $\\pm$ {:.10f}'.format(nom, y_media, y_std))\n",
    "        plt.yticks([])\n",
    "        \n",
    "    plt.legend()\n",
    "    plt.show();"
   ]
  },
  {
   "cell_type": "code",
   "execution_count": 30,
   "id": "aa653316",
   "metadata": {},
   "outputs": [
    {
     "data": {
      "image/png": "[encoded data removed]",
      "text/plain": [
       "<Figure size 432x288 with 1 Axes>"
      ]
     },
     "metadata": {
      "needs_background": "light"
     },
     "output_type": "display_data"
    }
   ],
   "source": [
    "plot([beta_control_7, beta_test_7], [\"Control\", \"Test\"])"
   ]
  },
  {
   "cell_type": "code",
   "execution_count": 31,
   "id": "dfdf7d06",
   "metadata": {},
   "outputs": [
    {
     "data": {
      "text/plain": [
       "'Ha empeorado el test en un 4.31 por ciento comparado con el grupo control'"
      ]
     },
     "execution_count": 31,
     "metadata": {},
     "output_type": "execute_result"
    }
   ],
   "source": [
    "salto_7=(beta_test_7.mean() - beta_control_7.mean())/beta_control_7.mean()\n",
    "\n",
    "f\"Ha empeorado el test en un {-salto_7.round(4)*100} por ciento comparado con el grupo control\""
   ]
  },
  {
   "cell_type": "markdown",
   "id": "8e0918c1",
   "metadata": {},
   "source": [
    "## Frequentistas"
   ]
  },
  {
   "cell_type": "markdown",
   "id": "f929e794",
   "metadata": {},
   "source": [
    "### retention 1 day"
   ]
  },
  {
   "cell_type": "code",
   "execution_count": 45,
   "id": "f464ac3a",
   "metadata": {},
   "outputs": [
    {
     "data": {
      "text/plain": [
       "20034"
      ]
     },
     "execution_count": 45,
     "metadata": {},
     "output_type": "execute_result"
    }
   ],
   "source": [
    "len(control_1_true)"
   ]
  },
  {
   "cell_type": "code",
   "execution_count": 46,
   "id": "21fd77fb",
   "metadata": {},
   "outputs": [
    {
     "data": {
      "text/plain": [
       "20119"
      ]
     },
     "execution_count": 46,
     "metadata": {},
     "output_type": "execute_result"
    }
   ],
   "source": [
    "len(test_1_true)"
   ]
  },
  {
   "cell_type": "code",
   "execution_count": null,
   "id": "5d179176",
   "metadata": {},
   "outputs": [],
   "source": []
  },
  {
   "cell_type": "code",
   "execution_count": 44,
   "id": "cooked-magnet",
   "metadata": {},
   "outputs": [
    {
     "data": {
      "text/plain": [
       "(-0.5715296896855967, 0.5676406407519317)"
      ]
     },
     "execution_count": 44,
     "metadata": {},
     "output_type": "execute_result"
    }
   ],
   "source": [
    "proportions_ztest([len(control_1_true), len(test_1_true)], nobs=44700, alternative='two-sided')"
   ]
  },
  {
   "cell_type": "code",
   "execution_count": 38,
   "id": "dca21881",
   "metadata": {},
   "outputs": [
    {
     "data": {
      "text/plain": [
       "2         True\n",
       "3        False\n",
       "4         True\n",
       "5         True\n",
       "7        False\n",
       "         ...  \n",
       "88602     True\n",
       "88605    False\n",
       "88609    False\n",
       "88611    False\n",
       "88613    False\n",
       "Name: retention_1, Length: 44700, dtype: bool"
      ]
     },
     "execution_count": 38,
     "metadata": {},
     "output_type": "execute_result"
    }
   ],
   "source": [
    "test_1_alt"
   ]
  },
  {
   "cell_type": "code",
   "execution_count": null,
   "id": "af3ac1e5",
   "metadata": {},
   "outputs": [],
   "source": []
  },
  {
   "cell_type": "code",
   "execution_count": null,
   "id": "3569f05a",
   "metadata": {},
   "outputs": [],
   "source": []
  }
 ],
 "metadata": {
  "finalized": {
   "timestamp": 1642857010293,
   "trusted": true
  },
  "kernelspec": {
   "display_name": "Python 3 (ipykernel)",
   "language": "python",
   "name": "python3"
  },
  "language_info": {
   "codemirror_mode": {
    "name": "ipython",
    "version": 3
   },
   "file_extension": ".py",
   "mimetype": "text/x-python",
   "name": "python",
   "nbconvert_exporter": "python",
   "pygments_lexer": "ipython3",
   "version": "3.8.13"
  },
  "toc": {
   "base_numbering": 1,
   "nav_menu": {},
   "number_sections": true,
   "sideBar": true,
   "skip_h1_title": false,
   "title_cell": "Table of Contents",
   "title_sidebar": "Contents",
   "toc_cell": true,
   "toc_position": {},
   "toc_section_display": true,
   "toc_window_display": false
  },
  "varInspector": {
   "cols": {
    "lenName": 16,
    "lenType": 16,
    "lenVar": 40
   },
   "kernels_config": {
    "python": {
     "delete_cmd_postfix": "",
     "delete_cmd_prefix": "del ",
     "library": "var_list.py",
     "varRefreshCmd": "print(var_dic_list())"
    },
    "r": {
     "delete_cmd_postfix": ") ",
     "delete_cmd_prefix": "rm(",
     "library": "var_list.r",
     "varRefreshCmd": "cat(var_dic_list()) "
    }
   },
   "types_to_exclude": [
    "module",
    "function",
    "builtin_function_or_method",
    "instance",
    "_Feature"
   ],
   "window_display": false
  }
 },
 "nbformat": 4,
 "nbformat_minor": 5
}
