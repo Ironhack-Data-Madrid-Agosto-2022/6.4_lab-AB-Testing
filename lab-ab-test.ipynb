{
 "cells": [
  {
   "cell_type": "markdown",
   "id": "angry-pearl",
   "metadata": {
    "toc": true
   },
   "source": [
    "<h1>Table of Contents<span class=\"tocSkip\"></span></h1>\n",
    "<div class=\"toc\"><ul class=\"toc-item\"><li><span><a href=\"#AB-Testing\" data-toc-modified-id=\"AB-Testing-1\"><span class=\"toc-item-num\">1&nbsp;&nbsp;</span>AB-Testing</a></span></li></ul></div>"
   ]
  },
  {
   "cell_type": "markdown",
   "id": "c92ba6e0",
   "metadata": {},
   "source": [
    "# AB-Testing\n",
    "\n",
    "![cats](images/cats.jpeg)\n",
    "\n",
    "\n",
    "Imaginad que somos los cientificos de datos de la empresa de videojuegos Tactile Entertainment. Los desarrolladores del juego Cookie Cats pretenden introducir un cambio en el juego para aumentar la retencion de los jugadores. En cierto nivel del juego los jugadores se encuentran una puerta que les obliga a esperar o a pagar la app. Actualmente la puerta se encuentra en nivel 30 y se pretende pasar al nivel 40, para comprobar la retencion a 1 y 7 dias. Antes de realizar el cambio definitivo en el juego se raliza un test AB.\n",
    "\n",
    "Los datos estan alojados en `data/cookie_cats.csv`. Nuestro grupo de control sera la version actual `gate_30` y el grupo de tratamiento sera la version `gate_40`. Debemos realizar el test para 1 dia de retencion `retention_1` y para 7 dias `retention_7`."
   ]
  },
  {
   "cell_type": "code",
   "execution_count": 1,
   "id": "ac3b2f52",
   "metadata": {},
   "outputs": [],
   "source": [
    "# librerias\n",
    "\n",
    "import pandas as pd\n",
    "import numpy as np\n",
    "\n",
    "from statsmodels.stats.proportion import proportions_ztest, proportion_confint\n",
    "from scipy.stats import norm, sem\n",
    "\n",
    "import pylab as plt"
   ]
  },
  {
   "cell_type": "code",
   "execution_count": 2,
   "id": "7fe515c2",
   "metadata": {},
   "outputs": [
    {
     "data": {
      "text/html": [
       "<div>\n",
       "<style scoped>\n",
       "    .dataframe tbody tr th:only-of-type {\n",
       "        vertical-align: middle;\n",
       "    }\n",
       "\n",
       "    .dataframe tbody tr th {\n",
       "        vertical-align: top;\n",
       "    }\n",
       "\n",
       "    .dataframe thead th {\n",
       "        text-align: right;\n",
       "    }\n",
       "</style>\n",
       "<table border=\"1\" class=\"dataframe\">\n",
       "  <thead>\n",
       "    <tr style=\"text-align: right;\">\n",
       "      <th></th>\n",
       "      <th>userid</th>\n",
       "      <th>version</th>\n",
       "      <th>sum_gamerounds</th>\n",
       "      <th>retention_1</th>\n",
       "      <th>retention_7</th>\n",
       "    </tr>\n",
       "  </thead>\n",
       "  <tbody>\n",
       "    <tr>\n",
       "      <th>0</th>\n",
       "      <td>116</td>\n",
       "      <td>gate_30</td>\n",
       "      <td>3</td>\n",
       "      <td>False</td>\n",
       "      <td>False</td>\n",
       "    </tr>\n",
       "    <tr>\n",
       "      <th>1</th>\n",
       "      <td>337</td>\n",
       "      <td>gate_30</td>\n",
       "      <td>38</td>\n",
       "      <td>True</td>\n",
       "      <td>False</td>\n",
       "    </tr>\n",
       "    <tr>\n",
       "      <th>2</th>\n",
       "      <td>377</td>\n",
       "      <td>gate_40</td>\n",
       "      <td>165</td>\n",
       "      <td>True</td>\n",
       "      <td>False</td>\n",
       "    </tr>\n",
       "    <tr>\n",
       "      <th>3</th>\n",
       "      <td>483</td>\n",
       "      <td>gate_40</td>\n",
       "      <td>1</td>\n",
       "      <td>False</td>\n",
       "      <td>False</td>\n",
       "    </tr>\n",
       "    <tr>\n",
       "      <th>4</th>\n",
       "      <td>488</td>\n",
       "      <td>gate_40</td>\n",
       "      <td>179</td>\n",
       "      <td>True</td>\n",
       "      <td>True</td>\n",
       "    </tr>\n",
       "  </tbody>\n",
       "</table>\n",
       "</div>"
      ],
      "text/plain": [
       "   userid  version  sum_gamerounds  retention_1  retention_7\n",
       "0     116  gate_30               3        False        False\n",
       "1     337  gate_30              38         True        False\n",
       "2     377  gate_40             165         True        False\n",
       "3     483  gate_40               1        False        False\n",
       "4     488  gate_40             179         True         True"
      ]
     },
     "execution_count": 2,
     "metadata": {},
     "output_type": "execute_result"
    }
   ],
   "source": [
    "# datos\n",
    "data=pd.read_csv('data/cookie_cats.csv')\n",
    "data.head()"
   ]
  },
  {
   "cell_type": "code",
   "execution_count": 3,
   "id": "a3f31e4d",
   "metadata": {
    "scrolled": true
   },
   "outputs": [
    {
     "data": {
      "text/plain": [
       "False    90189\n",
       "Name: userid, dtype: int64"
      ]
     },
     "execution_count": 3,
     "metadata": {},
     "output_type": "execute_result"
    }
   ],
   "source": [
    "#ver si hay userid repetidos no hay\n",
    "data.userid.duplicated().value_counts()"
   ]
  },
  {
   "cell_type": "code",
   "execution_count": 20,
   "id": "60be5e69",
   "metadata": {},
   "outputs": [
    {
     "data": {
      "text/plain": [
       "(44700, 45489)"
      ]
     },
     "execution_count": 20,
     "metadata": {},
     "output_type": "execute_result"
    }
   ],
   "source": [
    "version1=sum(data['version']=='gate_30') #Control\n",
    "version2=sum(data['version']=='gate_40') #Test\n",
    "version1, version2"
   ]
  },
  {
   "cell_type": "code",
   "execution_count": 21,
   "id": "074dc454",
   "metadata": {},
   "outputs": [
    {
     "name": "stderr",
     "output_type": "stream",
     "text": [
      "/var/folders/bg/_zqwsn3n223bm28sndqq_c4h0000gn/T/ipykernel_1225/3735802497.py:1: UserWarning: Boolean Series key will be reindexed to match DataFrame index.\n",
      "  ret1_ctrl_true= len(data[data['retention_1']==True][data['version']=='gate_30'])\n"
     ]
    },
    {
     "data": {
      "text/plain": [
       "20034"
      ]
     },
     "execution_count": 21,
     "metadata": {},
     "output_type": "execute_result"
    }
   ],
   "source": [
    "ret1_ctrl_true= len(data[data['retention_1']==True][data['version']=='gate_30']) #convertidos en control\n",
    "ret1_ctrl_true"
   ]
  },
  {
   "cell_type": "code",
   "execution_count": 22,
   "id": "ae8d624e",
   "metadata": {},
   "outputs": [
    {
     "name": "stderr",
     "output_type": "stream",
     "text": [
      "/var/folders/bg/_zqwsn3n223bm28sndqq_c4h0000gn/T/ipykernel_1225/2895294653.py:2: UserWarning: Boolean Series key will be reindexed to match DataFrame index.\n",
      "  ret1_ctrl_true= len(data[data['retention_1']==True][data['version']=='gate_30'])  #\n",
      "/var/folders/bg/_zqwsn3n223bm28sndqq_c4h0000gn/T/ipykernel_1225/2895294653.py:3: UserWarning: Boolean Series key will be reindexed to match DataFrame index.\n",
      "  ret1_ctrl_false= len(data[data['retention_1']==False][data['version']=='gate_30'])\n",
      "/var/folders/bg/_zqwsn3n223bm28sndqq_c4h0000gn/T/ipykernel_1225/2895294653.py:4: UserWarning: Boolean Series key will be reindexed to match DataFrame index.\n",
      "  ret1_test_true=len(data[data['retention_1']==True][data['version']=='gate_40'])\n"
     ]
    }
   ],
   "source": [
    "\n",
    "ret1_ctrl_true= len(data[data['retention_1']==True][data['version']=='gate_30'])  #\n",
    "ret1_ctrl_false= len(data[data['retention_1']==False][data['version']=='gate_30'])\n",
    "ret1_test_true=len(data[data['retention_1']==True][data['version']=='gate_40']) #convertidos en tratamiento"
   ]
  },
  {
   "cell_type": "code",
   "execution_count": 23,
   "id": "38f422cb",
   "metadata": {},
   "outputs": [],
   "source": [
    "# muestreo\n",
    "imp_ctrl, conv_ctrl= version1, ret1_ctrl_true  #total de grupo control/convertidos\n",
    "imp_test, conv_test= version2, ret1_test_true\n"
   ]
  },
  {
   "cell_type": "code",
   "execution_count": 24,
   "id": "5b90c429",
   "metadata": {},
   "outputs": [
    {
     "data": {
      "text/plain": [
       "(0.4481879194630872, 0.44228274967574577)"
      ]
     },
     "execution_count": 24,
     "metadata": {},
     "output_type": "execute_result"
    }
   ],
   "source": [
    "# testeo para retention_1\n",
    "CR_crl= conv_ctrl/imp_ctrl #total de grupo control/convertidos\n",
    "CR_test= conv_test/imp_test\n",
    "\n",
    "CR_crl, CR_test   #conversion rate, tasas cuántos de cada 100 se han convertido"
   ]
  },
  {
   "cell_type": "code",
   "execution_count": 30,
   "id": "e993bd53",
   "metadata": {},
   "outputs": [
    {
     "data": {
      "text/plain": [
       "(0.44819023757326293, 0.44228528719966587)"
      ]
     },
     "execution_count": 30,
     "metadata": {},
     "output_type": "execute_result"
    }
   ],
   "source": [
    "# aprioris \n",
    "from scipy.stats import bernoulli, beta\n",
    "\n",
    "a_C, b_C = conv_ctrl+1, imp_ctrl-conv_ctrl+1  #Para actualizar la beta: a_c los que han convertido y b los no convertidos\n",
    "a_T, b_T = conv_test+1, imp_test-conv_test+1\n",
    "\n",
    "beta_control=beta(a_C, b_C)\n",
    "beta_test=beta(a_T, b_T)\n",
    "beta_control.mean(), beta_test.mean()"
   ]
  },
  {
   "cell_type": "code",
   "execution_count": 70,
   "id": "41963489",
   "metadata": {},
   "outputs": [],
   "source": [
    "x=np.linspace(0.42, 0.47, 1000)  #empezar con (0,1,1000) 1000 es los puntos a pintar y 0,1 el umbral de x\n",
    "\n",
    "def plot(betas, nombres):   #betas y nombres de la leyenda\n",
    "    \n",
    "    for bet, nom in zip(betas, nombres):   #en diccionario beta nombre\n",
    "        \n",
    "        y=bet.pdf(x)  #pdf es la funcion la linea (cdf es la integral el area)\n",
    "        y_media=bet.mean() # pa la leyenda\n",
    "        y_std=bet.std()  # pa la leyenda\n",
    "        \n",
    "        plt.plot(x, y, label='{}, tasa de conv: {:.6f} $\\pm$ {:.10f}'.format(nom, y_media, y_std)) #(x,y, label=leyenda)\n",
    "        #plt.yticks([]) #si se descomenta quita los valores de la y \n",
    "        \n",
    "    plt.legend()\n",
    "    plt.show();"
   ]
  },
  {
   "cell_type": "code",
   "execution_count": 71,
   "id": "4f63be6b",
   "metadata": {},
   "outputs": [
    {
     "data": {
      "image/png": "[encoded data removed]",
      "text/plain": [
       "<Figure size 432x288 with 1 Axes>"
      ]
     },
     "metadata": {
      "needs_background": "light"
     },
     "output_type": "display_data"
    }
   ],
   "source": [
    "plot([beta_control, beta_test], ['Control', 'Testeo'])"
   ]
  },
  {
   "cell_type": "code",
   "execution_count": 63,
   "id": "2313ba92",
   "metadata": {},
   "outputs": [
    {
     "data": {
      "text/plain": [
       "-0.01317565585974659"
      ]
     },
     "execution_count": 63,
     "metadata": {},
     "output_type": "execute_result"
    }
   ],
   "source": [
    "salto=(CR_test - CR_crl)/CR_crl\n",
    "\n",
    "salto #%de mejora o empeora la conversion"
   ]
  },
  {
   "cell_type": "code",
   "execution_count": 31,
   "id": "a4e7fe07",
   "metadata": {},
   "outputs": [
    {
     "data": {
      "text/plain": [
       "-0.013175098158249857"
      ]
     },
     "execution_count": 31,
     "metadata": {},
     "output_type": "execute_result"
    }
   ],
   "source": [
    "salto=(beta_test.mean() - beta_control.mean())/beta_control.mean()\n",
    "\n",
    "salto"
   ]
  },
  {
   "cell_type": "code",
   "execution_count": 26,
   "id": "dd848cc8",
   "metadata": {},
   "outputs": [],
   "source": [
    "#!pip install mpmath\n",
    "\n",
    "from mpmath import betainc   # integral de beta"
   ]
  },
  {
   "cell_type": "code",
   "execution_count": 65,
   "id": "8ce32e98",
   "metadata": {},
   "outputs": [
    {
     "data": {
      "text/plain": [
       "0.8781293616836622"
      ]
     },
     "execution_count": 65,
     "metadata": {},
     "output_type": "execute_result"
    }
   ],
   "source": [
    "beta.cdf(0.445,a_T,b_T)   #sitio de corte #el profe lo hizo con otra\n",
    "prob=beta.cdf(0.445,a_T,b_T) #el area del test del punto de corte\n",
    "\n",
    "prob=float(prob)\n",
    "\n",
    "\n",
    "prob #probab de mejorar o empeorar la conversion en el % del salto. Probabilidad de acertar el salto."
   ]
  },
  {
   "cell_type": "code",
   "execution_count": null,
   "id": "a45a897e",
   "metadata": {},
   "outputs": [],
   "source": [
    "#El test desciende la tasa de conversion en un -0.0132 con un probabilidad del 0.878"
   ]
  },
  {
   "cell_type": "code",
   "execution_count": 83,
   "id": "a048a711",
   "metadata": {},
   "outputs": [
    {
     "name": "stderr",
     "output_type": "stream",
     "text": [
      "/var/folders/bg/_zqwsn3n223bm28sndqq_c4h0000gn/T/ipykernel_1225/2753351042.py:2: UserWarning: Boolean Series key will be reindexed to match DataFrame index.\n",
      "  ret2_ctrl_true= len(data[data['retention_7']==True][data['version']=='gate_30'])  #\n",
      "/var/folders/bg/_zqwsn3n223bm28sndqq_c4h0000gn/T/ipykernel_1225/2753351042.py:3: UserWarning: Boolean Series key will be reindexed to match DataFrame index.\n",
      "  ret2_ctrl_false= len(data[data['retention_7']==False][data['version']=='gate_30'])\n",
      "/var/folders/bg/_zqwsn3n223bm28sndqq_c4h0000gn/T/ipykernel_1225/2753351042.py:4: UserWarning: Boolean Series key will be reindexed to match DataFrame index.\n",
      "  ret2_test_true=len(data[data['retention_7']==True][data['version']=='gate_40'])\n",
      "/var/folders/bg/_zqwsn3n223bm28sndqq_c4h0000gn/T/ipykernel_1225/2753351042.py:5: UserWarning: Boolean Series key will be reindexed to match DataFrame index.\n",
      "  ret2_test_true=len(data[data['retention_7']==False][data['version']=='gate_40'])\n"
     ]
    }
   ],
   "source": [
    "# testeo para retention_7\n",
    "ret2_ctrl_true= len(data[data['retention_7']==True][data['version']=='gate_30'])  #\n",
    "ret2_ctrl_false= len(data[data['retention_7']==False][data['version']=='gate_30'])\n",
    "ret2_test_true=len(data[data['retention_7']==True][data['version']=='gate_40'])\n",
    "ret2_test_true=len(data[data['retention_7']==False][data['version']=='gate_40'])"
   ]
  },
  {
   "cell_type": "code",
   "execution_count": 131,
   "id": "cooked-magnet",
   "metadata": {},
   "outputs": [],
   "source": [
    "# muestreo\n",
    "imp_ctrl2, conv_ctrl2= version2, ret2_ctrl_true  #total de grupo control/convertidos\n",
    "imp_test2, conv_test2= version2, ret2_test_true"
   ]
  },
  {
   "cell_type": "code",
   "execution_count": 132,
   "id": "cabd85f2",
   "metadata": {},
   "outputs": [
    {
     "data": {
      "text/plain": [
       "(0.1869023280353492, 0.8179999560333268)"
      ]
     },
     "execution_count": 132,
     "metadata": {},
     "output_type": "execute_result"
    }
   ],
   "source": [
    "CR_crl2= conv_ctrl2/imp_ctrl2 #total de grupo control/convertidos\n",
    "CR_test2= conv_test2/imp_test2\n",
    "\n",
    "CR_crl2, CR_test2   #conversion rate, tasas cuántos de cada 100 se han convertido"
   ]
  },
  {
   "cell_type": "code",
   "execution_count": 133,
   "id": "e7840b20",
   "metadata": {},
   "outputs": [
    {
     "data": {
      "text/plain": [
       "(0.18691609329317888, 0.8179859752478512)"
      ]
     },
     "execution_count": 133,
     "metadata": {},
     "output_type": "execute_result"
    }
   ],
   "source": [
    "# aprioris \n",
    "from scipy.stats import bernoulli, beta\n",
    "\n",
    "a_C2, b_C2 = conv_ctrl2+1, imp_ctrl2-conv_ctrl2+1  #Para actualizar la beta: a_c los que han convertido y b los no convertidos\n",
    "a_T2, b_T2 = conv_test2+1, imp_test2-conv_test2+1\n",
    "\n",
    "beta_control2=beta(a_C2, b_C2)\n",
    "beta_test2=beta(a_T2, b_T2)\n",
    "beta_control2.mean(), beta_test2.mean()"
   ]
  },
  {
   "cell_type": "code",
   "execution_count": 136,
   "id": "b8835dc7",
   "metadata": {},
   "outputs": [],
   "source": [
    "x=np.linspace(0.150, 1 , 1000)  #empezar con (0,1,1000) 1000 es los puntos a pintar y 0,1 el umbral de x\n",
    "\n",
    "def plot(betas, nombres):   #betas y nombres de la leyenda\n",
    "    \n",
    "    for bet, nom in zip(betas, nombres):   #en diccionario beta nombre\n",
    "        \n",
    "        y=bet.pdf(x)  #pdf es la funcion la linea (cdf es la integral el area)\n",
    "        y_media=bet.mean() # pa la leyenda\n",
    "        y_std=bet.std()  # pa la leyenda\n",
    "        \n",
    "        plt.plot(x, y, label='{}, tasa de conv: {:.6f} $\\pm$ {:.10f}'.format(nom, y_media, y_std)) #(x,y, label=leyenda)\n",
    "        #plt.yticks([]) #si se descomenta quita los valores de la y \n",
    "        \n",
    "    plt.legend()\n",
    "    plt.show();"
   ]
  },
  {
   "cell_type": "code",
   "execution_count": 137,
   "id": "fa59721d",
   "metadata": {},
   "outputs": [
    {
     "data": {
      "image/png": "[encoded data removed]",
      "text/plain": [
       "<Figure size 432x288 with 1 Axes>"
      ]
     },
     "metadata": {
      "needs_background": "light"
     },
     "output_type": "display_data"
    }
   ],
   "source": [
    "plot([beta_control2, beta_test2], ['Control', 'Testeo'])"
   ]
  },
  {
   "cell_type": "code",
   "execution_count": 89,
   "id": "0565c583",
   "metadata": {},
   "outputs": [
    {
     "data": {
      "text/plain": [
       "-0.013175098158249857"
      ]
     },
     "execution_count": 89,
     "metadata": {},
     "output_type": "execute_result"
    }
   ],
   "source": [
    "salto2=(beta_test2.mean() - beta_control2.mean())/beta_control2.mean()\n",
    "\n",
    "salto2"
   ]
  },
  {
   "cell_type": "code",
   "execution_count": 90,
   "id": "ea368c29",
   "metadata": {},
   "outputs": [
    {
     "data": {
      "text/plain": [
       "0.8781293616836622"
      ]
     },
     "execution_count": 90,
     "metadata": {},
     "output_type": "execute_result"
    }
   ],
   "source": [
    "beta.cdf(0.445,a_T,b_T)   #sitio de corte #el profe lo hizo con otra\n",
    "prob2=beta.cdf(0.445,a_T,b_T) #el area del test del punto de corte\n",
    "\n",
    "prob2=float(prob)\n",
    "\n",
    "\n",
    "prob2 #probab de mejorar o empeorar la conversion en el % del salto. Probabilidad de acertar el salto."
   ]
  }
 ],
 "metadata": {
  "finalized": {
   "timestamp": 1642857010293,
   "trusted": true
  },
  "kernelspec": {
   "display_name": "Python 3 (ipykernel)",
   "language": "python",
   "name": "python3"
  },
  "language_info": {
   "codemirror_mode": {
    "name": "ipython",
    "version": 3
   },
   "file_extension": ".py",
   "mimetype": "text/x-python",
   "name": "python",
   "nbconvert_exporter": "python",
   "pygments_lexer": "ipython3",
   "version": "3.9.12"
  },
  "toc": {
   "base_numbering": 1,
   "nav_menu": {},
   "number_sections": true,
   "sideBar": true,
   "skip_h1_title": false,
   "title_cell": "Table of Contents",
   "title_sidebar": "Contents",
   "toc_cell": true,
   "toc_position": {},
   "toc_section_display": true,
   "toc_window_display": false
  },
  "varInspector": {
   "cols": {
    "lenName": 16,
    "lenType": 16,
    "lenVar": 40
   },
   "kernels_config": {
    "python": {
     "delete_cmd_postfix": "",
     "delete_cmd_prefix": "del ",
     "library": "var_list.py",
     "varRefreshCmd": "print(var_dic_list())"
    },
    "r": {
     "delete_cmd_postfix": ") ",
     "delete_cmd_prefix": "rm(",
     "library": "var_list.r",
     "varRefreshCmd": "cat(var_dic_list()) "
    }
   },
   "types_to_exclude": [
    "module",
    "function",
    "builtin_function_or_method",
    "instance",
    "_Feature"
   ],
   "window_display": false
  }
 },
 "nbformat": 4,
 "nbformat_minor": 5
}
