{
 "cells": [
  {
   "cell_type": "markdown",
   "id": "angry-pearl",
   "metadata": {
    "toc": true
   },
   "source": [
    "<h1>Table of Contents<span class=\"tocSkip\"></span></h1>\n",
    "<div class=\"toc\"><ul class=\"toc-item\"><li><span><a href=\"#AB-Testing\" data-toc-modified-id=\"AB-Testing-1\"><span class=\"toc-item-num\">1&nbsp;&nbsp;</span>AB-Testing</a></span></li></ul></div>"
   ]
  },
  {
   "cell_type": "markdown",
   "id": "c92ba6e0",
   "metadata": {},
   "source": [
    "# AB-Testing\n",
    "\n",
    "![cats](images/cats.jpeg)\n",
    "\n",
    "\n",
    "Imaginad que somos los cientificos de datos de la empresa de videojuegos Tactile Entertainment. Los desarrolladores del juego Cookie Cats pretenden introducir un cambio en el juego para aumentar la retencion de los jugadores. En cierto nivel del juego los jugadores se encuentran una puerta que les obliga a esperar o a pagar la app. Actualmente la puerta se encuentra en nivel 30 y se pretende pasar al nivel 40, para comprobar la retencion a 1 y 7 dias. Antes de realizar el cambio definitivo en el juego se raliza un test AB.\n",
    "\n",
    "Los datos estan alojados en `data/cookie_cats.csv`. Nuestro grupo de control sera la version actual `gate_30` y el grupo de tratamiento sera la version `gate_40`. Debemos realizar el test para 1 dia de retencion `retention_1` y para 7 dias `retention_7`."
   ]
  },
  {
   "cell_type": "code",
   "execution_count": null,
   "id": "ac3b2f52",
   "metadata": {},
   "outputs": [],
   "source": [
    "# librerias\n",
    "\n",
    "import pandas as pd\n",
    "import numpy as np\n"
   ]
  },
  {
   "cell_type": "code",
   "execution_count": null,
   "id": "388edade",
   "metadata": {},
   "outputs": [],
   "source": [
    "from statsmodels.stats.proportion import proportions_ztest, proportion_confint\n",
    "from scipy.stats import norm, sem\n",
    "\n",
    "import pylab as plt"
   ]
  },
  {
   "cell_type": "code",
   "execution_count": null,
   "id": "7fe515c2",
   "metadata": {},
   "outputs": [],
   "source": [
    "# datos\n",
    "Cat=pd.read_csv('data/cookie_cats.csv')\n",
    "Cat.head()"
   ]
  },
  {
   "cell_type": "code",
   "execution_count": null,
   "id": "95d30273",
   "metadata": {},
   "outputs": [],
   "source": [
    "Cat.info()"
   ]
  },
  {
   "cell_type": "code",
   "execution_count": null,
   "id": "6d805666",
   "metadata": {},
   "outputs": [],
   "source": [
    "ret_1=pd.crosstab(Cat.version, Cat.retention_1)\n",
    "ret_7=pd.crosstab(Cat.version, Cat.retention_7)\n",
    "\n",
    "ret_1, ret_7"
   ]
  },
  {
   "cell_type": "code",
   "execution_count": null,
   "id": "b7c54153",
   "metadata": {},
   "outputs": [],
   "source": [
    "rete_1=pd.crosstab(Cat.version, Cat.retention_1).plot(kind='bar');\n",
    "rete_7=pd.crosstab(Cat.version, Cat.retention_7).plot(kind='bar');"
   ]
  },
  {
   "cell_type": "code",
   "execution_count": null,
   "id": "f2e6147a",
   "metadata": {},
   "outputs": [],
   "source": [
    "# transformacion\n",
    "Cat.version=np.where(Cat.version=='gate_30', '30', '40')\n",
    "\n",
    "Cat.retention_1=np.where(Cat.retention_1==True, 1, 0)\n",
    "Cat.retention_7=np.where(Cat.retention_7==True, 1, 0)\n",
    "\n",
    "Cat.head()"
   ]
  },
  {
   "cell_type": "code",
   "execution_count": null,
   "id": "38f422cb",
   "metadata": {},
   "outputs": [],
   "source": [
    "# muestreo\n",
    "Muestra_30=len(Cat[Cat.version=='30'])\n",
    "Muestra_40=len(Cat[Cat.version=='40'])\n",
    "\n",
    "Muestra_30, Muestra_40"
   ]
  },
  {
   "cell_type": "code",
   "execution_count": null,
   "id": "9233e717",
   "metadata": {},
   "outputs": [],
   "source": [
    "control = Cat[Cat.version=='30'].sample(n=44000, random_state=42)\n",
    "\n",
    "tratamiento = Cat[Cat.version=='40'].sample(n=44000, random_state=42)\n",
    "\n",
    "ab_test = pd.concat([control, tratamiento], axis=0)\n",
    "\n",
    "ab_test.reset_index(drop=True, inplace=True)\n",
    "\n",
    "ab_test.head()"
   ]
  },
  {
   "cell_type": "code",
   "execution_count": null,
   "id": "023f05fe",
   "metadata": {},
   "outputs": [],
   "source": [
    "ab_test.tail()"
   ]
  },
  {
   "cell_type": "code",
   "execution_count": null,
   "id": "9cd5c457",
   "metadata": {},
   "outputs": [],
   "source": [
    "ab_test.version.value_counts()"
   ]
  },
  {
   "cell_type": "code",
   "execution_count": null,
   "id": "5b90c429",
   "metadata": {},
   "outputs": [],
   "source": [
    "# testeo para retention_1\n"
   ]
  },
  {
   "cell_type": "code",
   "execution_count": null,
   "id": "78841a16",
   "metadata": {},
   "outputs": [],
   "source": [
    "control_res=ab_test[ab_test.version=='30']['retention_1']\n",
    "tratamiento_res=ab_test[ab_test.version=='40']['retention_1']\n",
    "\n",
    "n_con=control_res.count()       \n",
    "n_trat=tratamiento_res.count()\n",
    "\n",
    "conversiones=[control_res.sum(), tratamiento_res.sum()]  \n",
    "\n",
    "\n",
    "observaciones=[n_con, n_trat]   \n",
    "\n",
    "z_score, p_valor = proportions_ztest(conversiones, nobs=observaciones) \n",
    "\n",
    "\n",
    "(control_a, tratamiento_a), (control_b, tratamiento_b) = proportion_confint(conversiones,\n",
    "                                                                            nobs=observaciones,\n",
    "\n",
    "                                                                            alpha=0.05)\n",
    "print(f'z-score: {z_score:.2f}')\n",
    "print(f'p-valor: {p_valor:.3f}')\n",
    "print(f'intervalo conf 95% para grupo control: [{control_a:.3f}, {control_b:.3f}]')\n",
    "print(f'intervalo conf 95% para grupo tratamiento: [{tratamiento_a:.3f}, {tratamiento_b:.3f}]')\n"
   ]
  },
  {
   "cell_type": "code",
   "execution_count": null,
   "id": "e20b6405",
   "metadata": {},
   "outputs": [],
   "source": [
    "ab_test.groupby('version').retention_1.mean()"
   ]
  },
  {
   "cell_type": "code",
   "execution_count": null,
   "id": "73e9b436",
   "metadata": {},
   "outputs": [],
   "source": [
    "ab_test.groupby('version').retention_1.std()"
   ]
  },
  {
   "cell_type": "code",
   "execution_count": null,
   "id": "90ddcee3",
   "metadata": {},
   "outputs": [],
   "source": [
    "x=[i*.1 for i in range(-5, 8)]  \n",
    "\n",
    "control=[norm.pdf(x, tasas_conversion.iloc[0][0], tasas_conversion.iloc[0][1]) for x in x] \n",
    "\n",
    "tratamiento=[norm.pdf(x, tasas_conversion.iloc[1][0], tasas_conversion.iloc[1][1]) for x in x] \n",
    "\n",
    "plt.plot(x, control)\n",
    "plt.plot(x, tratamiento)\n",
    "plt.legend(['control', 'tratamiento']);"
   ]
  },
  {
   "cell_type": "code",
   "execution_count": null,
   "id": "a1c1cb16",
   "metadata": {},
   "outputs": [],
   "source": [
    "tasas_conversion=ab_test.groupby('version')['retention_1']\n",
    "\n",
    "\n",
    "tasas_conversion=tasas_conversion.agg([np.mean, std, error_std])\n",
    "tasas_conversion.columns=['conversion_rate', 'std_deviation', 'std_error']\n",
    "\n",
    "\n",
    "tasas_conversion.style.format('{:.3f}')\n",
    "\n",
    "x=[i*.1 for i in range(-5, 15)]  \n",
    "\n",
    "control=[norm.pdf(x, tasas_conversion.iloc[0][0], tasas_conversion.iloc[0][1]) for x in x] \n",
    "\n",
    "tratamiento=[norm.pdf(x, tasas_conversion.iloc[1][0], tasas_conversion.iloc[1][1]) for x in x] \n",
    "\n",
    "plt.plot(x, control)\n",
    "plt.plot(x, tratamiento)\n",
    "plt.legend(['control', 'tratamiento']);"
   ]
  },
  {
   "cell_type": "code",
   "execution_count": null,
   "id": "a048a711",
   "metadata": {},
   "outputs": [],
   "source": [
    "# testeo para retention_7\n",
    "control_res=ab_test[ab_test.version=='30']['retention_7']\n",
    "tratamiento_res=ab_test[ab_test.version=='40']['retention_7']\n",
    "\n",
    "n_con=control_res.count()       \n",
    "n_trat=tratamiento_res.count()\n",
    "\n",
    "conversiones=[control_res.sum(), tratamiento_res.sum()]  \n",
    "\n",
    "\n",
    "observaciones=[n_con, n_trat]   \n",
    "\n",
    "z_score, p_valor = proportions_ztest(conversiones, nobs=observaciones) \n",
    "\n",
    "\n",
    "(control_a, tratamiento_a), (control_b, tratamiento_b) = proportion_confint(conversiones,\n",
    "                                                                            nobs=observaciones,\n",
    "\n",
    "                                                                            alpha=0.05)\n",
    "print(f'z-score: {z_score:.2f}')\n",
    "print(f'p-valor: {p_valor:.3f}')\n",
    "print(f'intervalo conf 95% para grupo control: [{control_a:.3f}, {control_b:.3f}]')\n",
    "print(f'intervalo conf 95% para grupo tratamiento: [{tratamiento_a:.3f}, {tratamiento_b:.3f}]')"
   ]
  },
  {
   "cell_type": "code",
   "execution_count": null,
   "id": "5b9a695c",
   "metadata": {},
   "outputs": [],
   "source": [
    "ab_test.groupby('version').retention_7.mean()"
   ]
  },
  {
   "cell_type": "code",
   "execution_count": null,
   "id": "dd8c24cd",
   "metadata": {},
   "outputs": [],
   "source": [
    "ab_test.groupby('version').retention_7.std()"
   ]
  },
  {
   "cell_type": "code",
   "execution_count": null,
   "id": "94151dc7",
   "metadata": {},
   "outputs": [],
   "source": [
    "tasas_conversion=ab_test.groupby('version')['retention_7']\n",
    "\n",
    "\n",
    "tasas_conversion=tasas_conversion.agg([np.mean, std, error_std])\n",
    "tasas_conversion.columns=['conversion_rate', 'std_deviation', 'std_error']\n",
    "\n",
    "\n",
    "tasas_conversion.style.format('{:.3f}')\n",
    "\n",
    "x=[i*.1 for i in range(-5, 15)]  \n",
    "\n",
    "control=[norm.pdf(x, tasas_conversion.iloc[0][0], tasas_conversion.iloc[0][1]) for x in x] \n",
    "\n",
    "tratamiento=[norm.pdf(x, tasas_conversion.iloc[1][0], tasas_conversion.iloc[1][1]) for x in x] \n",
    "\n",
    "plt.plot(x, control)\n",
    "plt.plot(x, tratamiento)\n",
    "plt.legend(['control', 'tratamiento']);"
   ]
  },
  {
   "cell_type": "code",
   "execution_count": null,
   "id": "cooked-magnet",
   "metadata": {},
   "outputs": [],
   "source": [
    "# conclusiones\n",
    "Tras ver los datos obtenidos tanto como esta actualmente como cambiando el paywall (de puerta 30 a puerta 40),\n",
    "he visto que no hay mucho cambio, apenas se nota  diferencia alguna entre el control y tratamiento,\n",
    "en la unica que se nota que hay algo de diferencia es el control de la retención de 7 dias, el cambio de versión,\n",
    "es decir el tratamiento esta un poco más por encima que el control, pero apenas se nota la diferencia."
   ]
  }
 ],
 "metadata": {
  "finalized": {
   "timestamp": 1642857010293,
   "trusted": true
  },
  "kernelspec": {
   "display_name": "Python 3 (ipykernel)",
   "language": "python",
   "name": "python3"
  },
  "language_info": {
   "codemirror_mode": {
    "name": "ipython",
    "version": 3
   },
   "file_extension": ".py",
   "mimetype": "text/x-python",
   "name": "python",
   "nbconvert_exporter": "python",
   "pygments_lexer": "ipython3",
   "version": "3.9.12"
  },
  "toc": {
   "base_numbering": 1,
   "nav_menu": {},
   "number_sections": true,
   "sideBar": true,
   "skip_h1_title": false,
   "title_cell": "Table of Contents",
   "title_sidebar": "Contents",
   "toc_cell": true,
   "toc_position": {},
   "toc_section_display": true,
   "toc_window_display": false
  },
  "varInspector": {
   "cols": {
    "lenName": 16,
    "lenType": 16,
    "lenVar": 40
   },
   "kernels_config": {
    "python": {
     "delete_cmd_postfix": "",
     "delete_cmd_prefix": "del ",
     "library": "var_list.py",
     "varRefreshCmd": "print(var_dic_list())"
    },
    "r": {
     "delete_cmd_postfix": ") ",
     "delete_cmd_prefix": "rm(",
     "library": "var_list.r",
     "varRefreshCmd": "cat(var_dic_list()) "
    }
   },
   "types_to_exclude": [
    "module",
    "function",
    "builtin_function_or_method",
    "instance",
    "_Feature"
   ],
   "window_display": false
  }
 },
 "nbformat": 4,
 "nbformat_minor": 5
}
