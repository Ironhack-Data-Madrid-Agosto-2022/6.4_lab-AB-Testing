{
 "cells": [
  {
   "cell_type": "markdown",
   "id": "angry-pearl",
   "metadata": {
    "toc": true
   },
   "source": [
    "<h1>Table of Contents<span class=\"tocSkip\"></span></h1>\n",
    "<div class=\"toc\"><ul class=\"toc-item\"><li><span><a href=\"#AB-Testing\" data-toc-modified-id=\"AB-Testing-1\"><span class=\"toc-item-num\">1&nbsp;&nbsp;</span>AB-Testing</a></span></li></ul></div>"
   ]
  },
  {
   "cell_type": "markdown",
   "id": "c92ba6e0",
   "metadata": {},
   "source": [
    "# AB-Testing\n",
    "\n",
    "![cats](images/cats.jpeg)\n",
    "\n",
    "\n",
    "Imaginad que somos los cientificos de datos de la empresa de videojuegos Tactile Entertainment. Los desarrolladores del juego Cookie Cats pretenden introducir un cambio en el juego para aumentar la retencion de los jugadores. En cierto nivel del juego los jugadores se encuentran una puerta que les obliga a esperar o a pagar la app. Actualmente la puerta se encuentra en nivel 30 y se pretende pasar al nivel 40, para comprobar la retencion a 1 y 7 dias. Antes de realizar el cambio definitivo en el juego se raliza un test AB.\n",
    "\n",
    "Los datos estan alojados en `data/cookie_cats.csv`. Nuestro grupo de control sera la version actual `gate_30` y el grupo de tratamiento sera la version `gate_40`. Debemos realizar el test para 1 dia de retencion `retention_1` y para 7 dias `retention_7`."
   ]
  },
  {
   "cell_type": "markdown",
   "id": "de95964a",
   "metadata": {},
   "source": [
    "BAYES"
   ]
  },
  {
   "cell_type": "code",
   "execution_count": null,
   "id": "ac3b2f52",
   "metadata": {},
   "outputs": [],
   "source": [
    "# librerias\n",
    "\n",
    "import pandas as pd\n",
    "import numpy as np\n",
    "\n",
    "from statsmodels.stats.proportion import proportions_ztest, proportion_confint\n",
    "from scipy.stats import norm, sem\n",
    "\n",
    "import numpy as np\n",
    "import pandas as pd\n",
    "\n",
    "import scipy.stats as stats\n",
    "import statsmodels.stats.api as sms\n",
    "\n",
    "import pylab as plt\n",
    "import seaborn as sns\n",
    "\n",
    "import pylab as plt"
   ]
  },
  {
   "cell_type": "code",
   "execution_count": null,
   "id": "7fe515c2",
   "metadata": {},
   "outputs": [],
   "source": [
    "# datos\n",
    "data = 'data/cookie_cats.csv'\n",
    "df = pd.read_csv(data)\n",
    "df"
   ]
  },
  {
   "cell_type": "code",
   "execution_count": null,
   "id": "ac73aca3",
   "metadata": {},
   "outputs": [],
   "source": [
    "tc1 = df.retention_1[df.version=='gate_30'].value_counts()\n",
    "tc2 = df.retention_1[df.version=='gate_40'].value_counts()\n",
    "print(tc1, tc2)"
   ]
  },
  {
   "cell_type": "code",
   "execution_count": null,
   "id": "f2e6147a",
   "metadata": {},
   "outputs": [],
   "source": [
    "# 1 dia\n",
    "from scipy.stats import bernoulli, beta               \n",
    "\n",
    "df.version.value_counts()\n",
    "\n",
    "#grupos de testeo y control de 1\n",
    "imps_ctrl, convs_ctrl = 44700, 20034\n",
    "imps_test, convs_test= 45489, 20119\n",
    "\n",
    "a_C, b_C = convs_ctrl+1, imps_ctrl-convs_ctrl+1\n",
    "a_T, b_T = convs_test+1, imps_test-convs_test+1\n",
    "\n",
    "beta_control=beta(a_C, b_C)\n",
    "beta_test=beta(a_T, b_T)"
   ]
  },
  {
   "cell_type": "code",
   "execution_count": null,
   "id": "75a2fc68",
   "metadata": {},
   "outputs": [],
   "source": [
    "x=np.linspace(0.43, 0.46, 10000)\n",
    "\n",
    "def plot(betas, nombres):\n",
    "    \n",
    "    for bet, nom in zip(betas, nombres):\n",
    "        \n",
    "        y=bet.pdf(x)\n",
    "        y_media=bet.mean()\n",
    "        y_std=bet.std()\n",
    "        \n",
    "        plt.plot(x, y, label='{}, tasa de conv: {:.6f} $\\pm$ {:.10f}'.format(nom, y_media, y_std))\n",
    "        plt.yticks([])\n",
    "        \n",
    "    plt.legend()\n",
    "    plt.grid()\n",
    "    plt.show();"
   ]
  },
  {
   "cell_type": "code",
   "execution_count": null,
   "id": "78585f0a",
   "metadata": {},
   "outputs": [],
   "source": [
    "plot([beta_control, beta_test], ['Control', 'Testeo'])"
   ]
  },
  {
   "cell_type": "code",
   "execution_count": null,
   "id": "3105615e",
   "metadata": {},
   "outputs": [],
   "source": [
    "salto=(beta_test.mean() - beta_control.mean())/beta_control.mean()\n",
    "\n",
    "salto"
   ]
  },
  {
   "cell_type": "code",
   "execution_count": null,
   "id": "78534bbf",
   "metadata": {},
   "outputs": [],
   "source": [
    "from mpmath import betainc   # integral de beta\n",
    "from bayes import *"
   ]
  },
  {
   "cell_type": "code",
   "execution_count": null,
   "id": "c8b314f5",
   "metadata": {},
   "outputs": [],
   "source": [
    "corte = calc_prob(beta_test, beta_control)\n",
    "\n",
    "print(corte)\n",
    "\n",
    "prob=betainc(a_T, b_T, corte, 1, regularized=True)\n",
    "\n",
    "prob=float(prob)\n",
    "\n",
    "prob"
   ]
  },
  {
   "cell_type": "code",
   "execution_count": null,
   "id": "a4f466bd",
   "metadata": {},
   "outputs": [],
   "source": [
    "'''El test aumenta la tasa de conversion en un {:2.2f}%, con una probabilidad del {:2.2f}%'''.format(salto*100, prob*100)"
   ]
  },
  {
   "cell_type": "markdown",
   "id": "4d714594",
   "metadata": {},
   "source": [
    "-----------------------------"
   ]
  },
  {
   "cell_type": "code",
   "execution_count": null,
   "id": "7f93ae49",
   "metadata": {},
   "outputs": [],
   "source": [
    "# retention_7\n",
    "tc3 = df.retention_7[df.version=='gate_30'].value_counts()\n",
    "tc4 = df.retention_7[df.version=='gate_40'].value_counts()\n",
    "print(tc3, tc4)"
   ]
  },
  {
   "cell_type": "code",
   "execution_count": null,
   "id": "3c95f8f6",
   "metadata": {},
   "outputs": [],
   "source": [
    "# 1 dia\n",
    "from scipy.stats import bernoulli, beta               \n",
    "\n",
    "df.version.value_counts()\n",
    "\n",
    "#grupos de testeo y control de 7\n",
    "imps_ctrl, convs_ctrl = 44700, 8502\n",
    "imps_test, convs_test= 45489, 8279\n",
    "\n",
    "a_C, b_C = convs_ctrl+1, imps_ctrl-convs_ctrl+1\n",
    "a_T, b_T = convs_test+1, imps_test-convs_test+1\n",
    "\n",
    "beta_control=beta(a_C, b_C)\n",
    "beta_test=beta(a_T, b_T)"
   ]
  },
  {
   "cell_type": "code",
   "execution_count": null,
   "id": "37f98c69",
   "metadata": {},
   "outputs": [],
   "source": [
    "x=np.linspace(0.16, 0.25, 10000)\n",
    "\n",
    "def plot2(betas, nombres):\n",
    "    \n",
    "    for bet, nom in zip(betas, nombres):\n",
    "        \n",
    "        y=bet.pdf(x)\n",
    "        y_media=bet.mean()\n",
    "        y_std=bet.std()\n",
    "        \n",
    "        plt.plot(x, y, label='{}, tasa de conv: {:.6f} $\\pm$ {:.10f}'.format(nom, y_media, y_std))\n",
    "        plt.yticks([])\n",
    "        \n",
    "    plt.legend()\n",
    "    plt.grid()\n",
    "    plt.show();\n",
    "    \n",
    "plot2([beta_control, beta_test], ['Control', 'Testeo'])"
   ]
  },
  {
   "cell_type": "code",
   "execution_count": null,
   "id": "f0883c3e",
   "metadata": {},
   "outputs": [],
   "source": [
    "salto=(beta_test.mean() - beta_control.mean())/beta_control.mean()\n",
    "\n",
    "salto"
   ]
  },
  {
   "cell_type": "code",
   "execution_count": null,
   "id": "c5daee51",
   "metadata": {},
   "outputs": [],
   "source": [
    "corte = calc_prob(beta_test, beta_control)\n",
    "\n",
    "print(corte)\n",
    "\n",
    "prob=betainc(a_T, b_T, corte, 1, regularized=True)\n",
    "\n",
    "prob=float(prob)\n",
    "\n",
    "prob"
   ]
  },
  {
   "cell_type": "code",
   "execution_count": null,
   "id": "f1fbdef8",
   "metadata": {},
   "outputs": [],
   "source": [
    "'''El test aumenta la tasa de conversion en un {:2.2f}%, con una probabilidad del {:2.2f}%'''.format(salto*100, prob*100)"
   ]
  },
  {
   "cell_type": "markdown",
   "id": "c998f06e",
   "metadata": {},
   "source": [
    "--------------"
   ]
  },
  {
   "cell_type": "markdown",
   "id": "cba03ea5",
   "metadata": {},
   "source": [
    "FRECUENTISMO"
   ]
  },
  {
   "cell_type": "code",
   "execution_count": null,
   "id": "82401631",
   "metadata": {},
   "outputs": [],
   "source": [
    "#retention_1\n",
    "\n",
    "control = df[df.version=='gate_30'].sample(n=44700, random_state=42)\n",
    "\n",
    "tratamiento = df[df.version=='gate_40'].sample(n=44700, random_state=42)\n",
    "\n",
    "ab_test = pd.concat([control, tratamiento], axis=0)\n",
    "\n",
    "ab_test.reset_index(drop=True, inplace=True)\n",
    "\n",
    "ab_test.head()"
   ]
  },
  {
   "cell_type": "code",
   "execution_count": null,
   "id": "2f202c70",
   "metadata": {},
   "outputs": [],
   "source": [
    "ab_test.version.value_counts()"
   ]
  },
  {
   "cell_type": "code",
   "execution_count": null,
   "id": "df5baf8e",
   "metadata": {},
   "outputs": [],
   "source": [
    "tasas_conversion=ab_test.groupby('version')['retention_1']  # agrupo por grupo\n",
    "\n",
    "\n",
    "\n",
    "std=lambda x: np.std(x, ddof=0)    # std\n",
    "error_std=lambda x: stats.sem(x, ddof=0)   # error standard , (std/sqrt(n))\n",
    "\n",
    "\n",
    "\n",
    "tasas_conversion=tasas_conversion.agg([np.mean, std, error_std])\n",
    "tasas_conversion.columns=['conversion_rate', 'std', 'std_error']\n",
    "\n",
    "\n",
    "tasas_conversion.style.format('{:.3f}')"
   ]
  },
  {
   "cell_type": "code",
   "execution_count": null,
   "id": "108cc3c7",
   "metadata": {},
   "outputs": [],
   "source": [
    "plt.figure(figsize=(8,6))\n",
    "\n",
    "sns.barplot(x=ab_test['version'], \n",
    "            y=ab_test['retention_1'])\n",
    "\n",
    "plt.ylim(0, 0.6)\n",
    "plt.title('Tasa de conversión por grupo')\n",
    "plt.xlabel('Grupo')\n",
    "plt.ylabel('Convertido (proporción)');"
   ]
  },
  {
   "cell_type": "code",
   "execution_count": null,
   "id": "aebd83cb",
   "metadata": {},
   "outputs": [],
   "source": [
    "from statsmodels.stats.proportion import proportions_ztest, proportion_confint"
   ]
  },
  {
   "cell_type": "code",
   "execution_count": null,
   "id": "8b684c32",
   "metadata": {},
   "outputs": [],
   "source": [
    "# seleccion de grupos\n",
    "\n",
    "control_res=ab_test[ab_test.version=='gate_30']['retention_1']\n",
    "\n",
    "trat_res=ab_test[ab_test.version=='gate_40']['retention_1']"
   ]
  },
  {
   "cell_type": "code",
   "execution_count": null,
   "id": "2e1d9209",
   "metadata": {},
   "outputs": [],
   "source": [
    "observaciones = [44700, 44700]  #control_res.count()\n",
    "\n",
    "conversiones=[control_res.sum(), trat_res.sum()]  # conversiones por grupo\n",
    "\n",
    "z_score, p_valor = proportions_ztest(conversiones, nobs=observaciones)\n",
    "\n",
    "\n",
    "# intervalos de confianza\n",
    "alpha=0.05\n",
    "(control_a, tratamiento_a), (control_b, tratamiento_b) = proportion_confint(conversiones, \n",
    "                                                                            nobs=observaciones,\n",
    "                                                                            alpha=alpha)"
   ]
  },
  {
   "cell_type": "code",
   "execution_count": null,
   "id": "f24fb0df",
   "metadata": {},
   "outputs": [],
   "source": [
    "print(f'z-score: {z_score:.2f}')\n",
    "print(f'p-valor: {p_valor:.3f}')\n",
    "print(f'intervalo conf {(1-alpha)*100}% para grupo control: [{control_a:.3f}, {control_b:.3f}]')\n",
    "print(f'intervalo conf {(1-alpha)*100}% para grupo tratamiento: [{tratamiento_a:.3f}, {tratamiento_b:.3f}]')"
   ]
  },
  {
   "cell_type": "code",
   "execution_count": null,
   "id": "6e5932b1",
   "metadata": {},
   "outputs": [],
   "source": [
    "#retention_2\n",
    "tasas_conversion=ab_test.groupby('version')['retention_7']  # agrupo por grupo\n",
    "\n",
    "\n",
    "\n",
    "std=lambda x: np.std(x, ddof=0)    # std\n",
    "error_std=lambda x: stats.sem(x, ddof=0)   # error standard , (std/sqrt(n))\n",
    "\n",
    "\n",
    "\n",
    "tasas_conversion=tasas_conversion.agg([np.mean, std, error_std])\n",
    "tasas_conversion.columns=['conversion_rate', 'std', 'std_error']\n",
    "\n",
    "\n",
    "tasas_conversion.style.format('{:.3f}')"
   ]
  },
  {
   "cell_type": "code",
   "execution_count": null,
   "id": "29f9f0ac",
   "metadata": {},
   "outputs": [],
   "source": [
    "plt.figure(figsize=(8,6))\n",
    "\n",
    "sns.barplot(x=ab_test['version'], \n",
    "            y=ab_test['retention_7'])\n",
    "\n",
    "plt.ylim(0, 0.25)\n",
    "plt.title('Tasa de conversión por grupo')\n",
    "plt.xlabel('Grupo')\n",
    "plt.ylabel('Convertido (proporción)');"
   ]
  },
  {
   "cell_type": "code",
   "execution_count": null,
   "id": "61430140",
   "metadata": {},
   "outputs": [],
   "source": [
    "# seleccion de grupos\n",
    "\n",
    "control_res=ab_test[ab_test.version=='gate_30']['retention_7']\n",
    "\n",
    "trat_res=ab_test[ab_test.version=='gate_40']['retention_7']"
   ]
  },
  {
   "cell_type": "code",
   "execution_count": null,
   "id": "4cd21d31",
   "metadata": {},
   "outputs": [],
   "source": [
    "observaciones = [44700, 44700]  #control_res.count()\n",
    "\n",
    "conversiones=[control_res.sum(), trat_res.sum()]  # conversiones por grupo\n",
    "\n",
    "z_score, p_valor = proportions_ztest(conversiones, nobs=observaciones)\n",
    "\n",
    "\n",
    "# intervalos de confianza\n",
    "alpha=0.05\n",
    "(control_a, tratamiento_a), (control_b, tratamiento_b) = proportion_confint(conversiones, \n",
    "                                                                            nobs=observaciones,\n",
    "                                                                            alpha=alpha)"
   ]
  },
  {
   "cell_type": "code",
   "execution_count": null,
   "id": "3622094a",
   "metadata": {},
   "outputs": [],
   "source": [
    "print(f'z-score: {z_score:.2f}')\n",
    "print(f'p-valor: {p_valor:.3f}')\n",
    "print(f'intervalo conf {(1-alpha)*100}% para grupo control: [{control_a:.3f}, {control_b:.3f}]')\n",
    "print(f'intervalo conf {(1-alpha)*100}% para grupo tratamiento: [{tratamiento_a:.3f}, {tratamiento_b:.3f}]')"
   ]
  },
  {
   "cell_type": "markdown",
   "id": "ebe78f97",
   "metadata": {},
   "source": [
    "----"
   ]
  },
  {
   "cell_type": "markdown",
   "id": "2a86a51e",
   "metadata": {},
   "source": [
    "Conclusiones:\n",
    "\n",
    "De acuerdo con los tests de Bayes realizados, el cambio realizado en la monetización del videojuego no tiene resultados favorables, como muestra el seguimiento que se ha realizado a los jugadores según su retencion.\n",
    "Sin embargo; al realizar el testeo con frecuentismo, se observa que, a psear de que la retención de los jugadores durante el primer dia no es óptima, el testeo de la retención de los jugadores durante la primera semana nos aporta un pvale inferior al umbral y, por tanto, se puede rechazar la H0 (grupo de control) "
   ]
  }
 ],
 "metadata": {
  "finalized": {
   "timestamp": 1642857010293,
   "trusted": true
  },
  "kernelspec": {
   "display_name": "Python 3 (ipykernel)",
   "language": "python",
   "name": "python3"
  },
  "language_info": {
   "codemirror_mode": {
    "name": "ipython",
    "version": 3
   },
   "file_extension": ".py",
   "mimetype": "text/x-python",
   "name": "python",
   "nbconvert_exporter": "python",
   "pygments_lexer": "ipython3",
   "version": "3.9.12"
  },
  "toc": {
   "base_numbering": 1,
   "nav_menu": {},
   "number_sections": true,
   "sideBar": true,
   "skip_h1_title": false,
   "title_cell": "Table of Contents",
   "title_sidebar": "Contents",
   "toc_cell": true,
   "toc_position": {},
   "toc_section_display": true,
   "toc_window_display": false
  },
  "varInspector": {
   "cols": {
    "lenName": 16,
    "lenType": 16,
    "lenVar": 40
   },
   "kernels_config": {
    "python": {
     "delete_cmd_postfix": "",
     "delete_cmd_prefix": "del ",
     "library": "var_list.py",
     "varRefreshCmd": "print(var_dic_list())"
    },
    "r": {
     "delete_cmd_postfix": ") ",
     "delete_cmd_prefix": "rm(",
     "library": "var_list.r",
     "varRefreshCmd": "cat(var_dic_list()) "
    }
   },
   "types_to_exclude": [
    "module",
    "function",
    "builtin_function_or_method",
    "instance",
    "_Feature"
   ],
   "window_display": false
  }
 },
 "nbformat": 4,
 "nbformat_minor": 5
}
